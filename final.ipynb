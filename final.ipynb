{
  "cells": [
    {
      "cell_type": "markdown",
      "metadata": {
        "id": "view-in-github",
        "colab_type": "text"
      },
      "source": [
        "<a href=\"https://colab.research.google.com/github/swastiksuvam55/Bio-data-page/blob/main/final.ipynb\" target=\"_parent\"><img src=\"https://colab.research.google.com/assets/colab-badge.svg\" alt=\"Open In Colab\"/></a>"
      ]
    },
    {
      "cell_type": "code",
      "execution_count": null,
      "metadata": {
        "id": "kbXGXunhDpdC"
      },
      "outputs": [],
      "source": [
        "import pandas as pd\n",
        "import numpy as np\n"
      ]
    },
    {
      "cell_type": "code",
      "execution_count": null,
      "metadata": {
        "colab": {
          "base_uri": "https://localhost:8080/"
        },
        "id": "o0s3bIZWEY2f",
        "outputId": "a1a0bd44-4dd4-4505-b587-d0c0386f9d56"
      },
      "outputs": [
        {
          "name": "stderr",
          "output_type": "stream",
          "text": [
            "[nltk_data] Downloading package punkt to /root/nltk_data...\n",
            "[nltk_data]   Package punkt is already up-to-date!\n"
          ]
        },
        {
          "data": {
            "text/plain": [
              "True"
            ]
          },
          "execution_count": 155,
          "metadata": {},
          "output_type": "execute_result"
        }
      ],
      "source": [
        "import nltk\n",
        "nltk.download('punkt')"
      ]
    },
    {
      "cell_type": "code",
      "execution_count": null,
      "metadata": {
        "colab": {
          "base_uri": "https://localhost:8080/"
        },
        "id": "N-aJT41REiPc",
        "outputId": "36779ce4-4673-4ce3-c76d-43c74e969f97"
      },
      "outputs": [
        {
          "name": "stderr",
          "output_type": "stream",
          "text": [
            "[nltk_data] Downloading package stopwords to /root/nltk_data...\n",
            "[nltk_data]   Package stopwords is already up-to-date!\n"
          ]
        },
        {
          "data": {
            "text/plain": [
              "True"
            ]
          },
          "execution_count": 156,
          "metadata": {},
          "output_type": "execute_result"
        }
      ],
      "source": [
        "from nltk.corpus import stopwords\n",
        "nltk.download('stopwords')"
      ]
    },
    {
      "cell_type": "code",
      "execution_count": null,
      "metadata": {
        "colab": {
          "base_uri": "https://localhost:8080/"
        },
        "id": "dQugStwiEnk1",
        "outputId": "14c0a677-353e-4cff-e167-a92d10197c4a"
      },
      "outputs": [
        {
          "name": "stdout",
          "output_type": "stream",
          "text": [
            "Drive already mounted at /content/drive; to attempt to forcibly remount, call drive.mount(\"/content/drive\", force_remount=True).\n"
          ]
        }
      ],
      "source": [
        "from google.colab import drive\n",
        "drive.mount('/content/drive')"
      ]
    },
    {
      "cell_type": "code",
      "execution_count": null,
      "metadata": {
        "id": "sokap46YEtQO"
      },
      "outputs": [],
      "source": [
        "data = pd.read_csv('/content/drive/MyDrive/alldata_1_for_kaggle.csv',encoding='latin1')"
      ]
    },
    {
      "cell_type": "code",
      "execution_count": null,
      "metadata": {
        "colab": {
          "base_uri": "https://localhost:8080/"
        },
        "id": "hHp8kHKKEtYf",
        "outputId": "2b417883-6172-4475-b54c-6966d694c04b"
      },
      "outputs": [
        {
          "data": {
            "text/plain": [
              "<bound method NDFrame.head of       Unnamed: 0               0  \\\n",
              "0              0  Thyroid_Cancer   \n",
              "1              1  Thyroid_Cancer   \n",
              "2              2  Thyroid_Cancer   \n",
              "3              3  Thyroid_Cancer   \n",
              "4              4  Thyroid_Cancer   \n",
              "...          ...             ...   \n",
              "7565        7565    Colon_Cancer   \n",
              "7566        7566    Colon_Cancer   \n",
              "7567        7567    Colon_Cancer   \n",
              "7568        7568    Colon_Cancer   \n",
              "7569        7569    Colon_Cancer   \n",
              "\n",
              "                                                      a  \n",
              "0     Thyroid surgery in  children in a single insti...  \n",
              "1     \" The adopted strategy was the same as that us...  \n",
              "2     coronary arterybypass grafting thrombosis ï¬b...  \n",
              "3      Solitary plasmacytoma SP of the skull is an u...  \n",
              "4      This study aimed to investigate serum matrix ...  \n",
              "...                                                 ...  \n",
              "7565  we report the case of a 24yearold man who pres...  \n",
              "7566  among synchronous colorectal cancers scrcs rep...  \n",
              "7567  the heterogeneity of cancer cells is generally...  \n",
              "7568  \"adipogenesis is the process through which mes...  \n",
              "7569  the periparturient period is one of the most c...  \n",
              "\n",
              "[7570 rows x 3 columns]>"
            ]
          },
          "execution_count": 159,
          "metadata": {},
          "output_type": "execute_result"
        }
      ],
      "source": [
        "data.head"
      ]
    },
    {
      "cell_type": "code",
      "execution_count": null,
      "metadata": {
        "id": "codEjgsBFAcn"
      },
      "outputs": [],
      "source": [
        "data['a']=data['a'].apply(lambda x: x.lower())"
      ]
    },
    {
      "cell_type": "code",
      "execution_count": null,
      "metadata": {
        "colab": {
          "base_uri": "https://localhost:8080/"
        },
        "id": "PA02XcQdFElh",
        "outputId": "05ed3b4b-ec78-46c8-fdba-36cdd1656ffd"
      },
      "outputs": [
        {
          "data": {
            "text/plain": [
              "0       thyroid surgery in  children in a single insti...\n",
              "1       \" the adopted strategy was the same as that us...\n",
              "2       coronary arterybypass grafting thrombosis ï¬b...\n",
              "3        solitary plasmacytoma sp of the skull is an u...\n",
              "4        this study aimed to investigate serum matrix ...\n",
              "                              ...                        \n",
              "7565    we report the case of a 24yearold man who pres...\n",
              "7566    among synchronous colorectal cancers scrcs rep...\n",
              "7567    the heterogeneity of cancer cells is generally...\n",
              "7568    \"adipogenesis is the process through which mes...\n",
              "7569    the periparturient period is one of the most c...\n",
              "Name: a, Length: 7570, dtype: object"
            ]
          },
          "execution_count": 161,
          "metadata": {},
          "output_type": "execute_result"
        }
      ],
      "source": [
        "data['a']"
      ]
    },
    {
      "cell_type": "code",
      "execution_count": null,
      "metadata": {
        "id": "H6OENYIlFGmS"
      },
      "outputs": [],
      "source": [
        "data['a']=data['a'].apply(lambda x: nltk.word_tokenize(x))"
      ]
    },
    {
      "cell_type": "code",
      "execution_count": null,
      "metadata": {
        "colab": {
          "base_uri": "https://localhost:8080/"
        },
        "id": "9lVVAAL0FJdL",
        "outputId": "fa7ef33a-ecc7-4b6b-866f-96bcec7c6e2f"
      },
      "outputs": [
        {
          "data": {
            "text/plain": [
              "0       [thyroid, surgery, in, children, in, a, single...\n",
              "1       [``, the, adopted, strategy, was, the, same, a...\n",
              "2       [coronary, arterybypass, grafting, thrombosis,...\n",
              "3       [solitary, plasmacytoma, sp, of, the, skull, i...\n",
              "4       [this, study, aimed, to, investigate, serum, m...\n",
              "                              ...                        \n",
              "7565    [we, report, the, case, of, a, 24yearold, man,...\n",
              "7566    [among, synchronous, colorectal, cancers, scrc...\n",
              "7567    [the, heterogeneity, of, cancer, cells, is, ge...\n",
              "7568    [``, adipogenesis, is, the, process, through, ...\n",
              "7569    [the, periparturient, period, is, one, of, the...\n",
              "Name: a, Length: 7570, dtype: object"
            ]
          },
          "execution_count": 92,
          "metadata": {},
          "output_type": "execute_result"
        }
      ],
      "source": [
        "data['a']"
      ]
    },
    {
      "cell_type": "code",
      "execution_count": null,
      "metadata": {
        "id": "udEt3jb9FPRv"
      },
      "outputs": [],
      "source": [
        "def PMR(x):\n",
        "  list1 = []\n",
        "  for i in x:\n",
        "    if i.isalnum():\n",
        "      list1.append(i)\n",
        "  return list1"
      ]
    },
    {
      "cell_type": "code",
      "execution_count": null,
      "metadata": {
        "id": "ghHwLIKOFRna"
      },
      "outputs": [],
      "source": [
        "data['a']=data['a'].apply(lambda x: PMR(x))"
      ]
    },
    {
      "cell_type": "code",
      "execution_count": null,
      "metadata": {
        "colab": {
          "base_uri": "https://localhost:8080/"
        },
        "id": "FpZbnZNKFUdx",
        "outputId": "af416e99-18cd-4f01-bd1a-571691b92d23"
      },
      "outputs": [
        {
          "data": {
            "text/plain": [
              "0       [thyroid, surgery, in, children, in, a, single...\n",
              "1       [the, adopted, strategy, was, the, same, as, t...\n",
              "2       [coronary, arterybypass, grafting, thrombosis,...\n",
              "3       [solitary, plasmacytoma, sp, of, the, skull, i...\n",
              "4       [this, study, aimed, to, investigate, serum, m...\n",
              "                              ...                        \n",
              "7565    [we, report, the, case, of, a, 24yearold, man,...\n",
              "7566    [among, synchronous, colorectal, cancers, scrc...\n",
              "7567    [the, heterogeneity, of, cancer, cells, is, ge...\n",
              "7568    [adipogenesis, is, the, process, through, whic...\n",
              "7569    [the, periparturient, period, is, one, of, the...\n",
              "Name: a, Length: 7570, dtype: object"
            ]
          },
          "execution_count": 95,
          "metadata": {},
          "output_type": "execute_result"
        }
      ],
      "source": [
        "data['a']"
      ]
    },
    {
      "cell_type": "code",
      "execution_count": null,
      "metadata": {
        "colab": {
          "base_uri": "https://localhost:8080/"
        },
        "id": "5HLobhbsFXsk",
        "outputId": "a87e26b3-473c-4f1f-b71e-518adbb09d86"
      },
      "outputs": [
        {
          "data": {
            "text/plain": [
              "set"
            ]
          },
          "execution_count": 96,
          "metadata": {},
          "output_type": "execute_result"
        }
      ],
      "source": [
        "MLIST = set(stopwords.words(\"english\"))\n",
        "type(MLIST)"
      ]
    },
    {
      "cell_type": "code",
      "execution_count": null,
      "metadata": {
        "colab": {
          "base_uri": "https://localhost:8080/"
        },
        "id": "3_EBDQaLFaWu",
        "outputId": "c258e128-48e5-44c6-bfe9-2dd2d0c658ae"
      },
      "outputs": [
        {
          "data": {
            "text/plain": [
              "True"
            ]
          },
          "execution_count": 97,
          "metadata": {},
          "output_type": "execute_result"
        }
      ],
      "source": [
        "'in' in MLIST"
      ]
    },
    {
      "cell_type": "code",
      "execution_count": null,
      "metadata": {
        "id": "aJrF_pOHFcqd"
      },
      "outputs": [],
      "source": [
        "\n",
        "def stopremoval(x):\n",
        "  list2 = []\n",
        "  for i in x:\n",
        "    if i in MLIST:\n",
        "      pass\n",
        "    else:\n",
        "      list2.append(i)\n",
        "  return list2"
      ]
    },
    {
      "cell_type": "code",
      "execution_count": null,
      "metadata": {
        "id": "dyvIjEpXFfN_"
      },
      "outputs": [],
      "source": [
        "data['a'] = data['a'].apply(lambda x: stopremoval(x))"
      ]
    },
    {
      "cell_type": "code",
      "execution_count": null,
      "metadata": {
        "colab": {
          "base_uri": "https://localhost:8080/"
        },
        "id": "_JnMdxvLFjBu",
        "outputId": "1a57a179-06ba-4619-e8ff-484706a90bf1"
      },
      "outputs": [
        {
          "data": {
            "text/plain": [
              "0       [thyroid, surgery, children, single, instituti...\n",
              "1       [adopted, strategy, used, prior, years, based,...\n",
              "2       [coronary, arterybypass, grafting, thrombosis,...\n",
              "3       [solitary, plasmacytoma, sp, skull, uncommon, ...\n",
              "4       [study, aimed, investigate, serum, matrix, met...\n",
              "                              ...                        \n",
              "7565    [report, case, 24yearold, man, presented, chie...\n",
              "7566    [among, synchronous, colorectal, cancers, scrc...\n",
              "7567    [heterogeneity, cancer, cells, generally, acce...\n",
              "7568    [adipogenesis, process, mesenchymalstem, cells...\n",
              "7569    [periparturient, period, one, challenging, per...\n",
              "Name: a, Length: 7570, dtype: object"
            ]
          },
          "execution_count": 100,
          "metadata": {},
          "output_type": "execute_result"
        }
      ],
      "source": [
        "\n",
        "data['a']"
      ]
    },
    {
      "cell_type": "code",
      "execution_count": null,
      "metadata": {
        "id": "rkkbKvrtFoBP"
      },
      "outputs": [],
      "source": [
        "data['freq'] = data['a'].apply(lambda x : len(x))"
      ]
    },
    {
      "cell_type": "code",
      "execution_count": null,
      "metadata": {
        "id": "ar-wcUAnFqJt"
      },
      "outputs": [],
      "source": [
        "from nltk.stem import SnowballStemmer\n",
        "snowball = SnowballStemmer(language='english')"
      ]
    },
    {
      "cell_type": "code",
      "execution_count": null,
      "metadata": {
        "id": "QFAwvnAEFsbD"
      },
      "outputs": [],
      "source": [
        "def stemmer(x):\n",
        "  list3 = []\n",
        "  for i in x:\n",
        "    list3.append(snowball.stem(i))\n",
        "  return list3  "
      ]
    },
    {
      "cell_type": "code",
      "execution_count": null,
      "metadata": {
        "id": "RWT0--fJFuO4"
      },
      "outputs": [],
      "source": [
        "data['new'] = data['a'].apply(lambda x: stemmer(x))"
      ]
    },
    {
      "cell_type": "code",
      "execution_count": null,
      "metadata": {
        "id": "b5usf9PkGC0h"
      },
      "outputs": [],
      "source": [
        "df = data.copy()"
      ]
    },
    {
      "cell_type": "code",
      "execution_count": null,
      "metadata": {
        "id": "LggGOVu3GFPu"
      },
      "outputs": [],
      "source": [
        "df['new2'] = df['a'].apply(lambda x: stemmer(x))"
      ]
    },
    {
      "cell_type": "code",
      "execution_count": null,
      "metadata": {
        "id": "vtqBJQYYGHKy"
      },
      "outputs": [],
      "source": [
        "df['a'] = df['new2']"
      ]
    },
    {
      "cell_type": "code",
      "execution_count": null,
      "metadata": {
        "colab": {
          "base_uri": "https://localhost:8080/",
          "height": 641
        },
        "id": "Z0FqUTthGJea",
        "outputId": "8a5f0e3e-6399-4022-8631-f2f27766f2f4"
      },
      "outputs": [
        {
          "data": {
            "text/html": [
              "\n",
              "  <div id=\"df-de96d403-a02c-4e1a-8584-58156c3fe47c\">\n",
              "    <div class=\"colab-df-container\">\n",
              "      <div>\n",
              "<style scoped>\n",
              "    .dataframe tbody tr th:only-of-type {\n",
              "        vertical-align: middle;\n",
              "    }\n",
              "\n",
              "    .dataframe tbody tr th {\n",
              "        vertical-align: top;\n",
              "    }\n",
              "\n",
              "    .dataframe thead th {\n",
              "        text-align: right;\n",
              "    }\n",
              "</style>\n",
              "<table border=\"1\" class=\"dataframe\">\n",
              "  <thead>\n",
              "    <tr style=\"text-align: right;\">\n",
              "      <th></th>\n",
              "      <th>Unnamed: 0</th>\n",
              "      <th>0</th>\n",
              "      <th>a</th>\n",
              "      <th>freq</th>\n",
              "      <th>new</th>\n",
              "      <th>new2</th>\n",
              "    </tr>\n",
              "  </thead>\n",
              "  <tbody>\n",
              "    <tr>\n",
              "      <th>0</th>\n",
              "      <td>0</td>\n",
              "      <td>Thyroid_Cancer</td>\n",
              "      <td>[thyroid, surgeri, children, singl, institut, ...</td>\n",
              "      <td>2012</td>\n",
              "      <td>[thyroid, surgeri, children, singl, institut, ...</td>\n",
              "      <td>[thyroid, surgeri, children, singl, institut, ...</td>\n",
              "    </tr>\n",
              "    <tr>\n",
              "      <th>1</th>\n",
              "      <td>1</td>\n",
              "      <td>Thyroid_Cancer</td>\n",
              "      <td>[adopt, strategi, use, prior, year, base, four...</td>\n",
              "      <td>1619</td>\n",
              "      <td>[adopt, strategi, use, prior, year, base, four...</td>\n",
              "      <td>[adopt, strategi, use, prior, year, base, four...</td>\n",
              "    </tr>\n",
              "    <tr>\n",
              "      <th>2</th>\n",
              "      <td>2</td>\n",
              "      <td>Thyroid_Cancer</td>\n",
              "      <td>[coronari, arterybypass, graft, thrombosi, mut...</td>\n",
              "      <td>1984</td>\n",
              "      <td>[coronari, arterybypass, graft, thrombosi, mut...</td>\n",
              "      <td>[coronari, arterybypass, graft, thrombosi, mut...</td>\n",
              "    </tr>\n",
              "    <tr>\n",
              "      <th>3</th>\n",
              "      <td>3</td>\n",
              "      <td>Thyroid_Cancer</td>\n",
              "      <td>[solitari, plasmacytoma, sp, skull, uncommon, ...</td>\n",
              "      <td>1261</td>\n",
              "      <td>[solitari, plasmacytoma, sp, skull, uncommon, ...</td>\n",
              "      <td>[solitari, plasmacytoma, sp, skull, uncommon, ...</td>\n",
              "    </tr>\n",
              "    <tr>\n",
              "      <th>4</th>\n",
              "      <td>4</td>\n",
              "      <td>Thyroid_Cancer</td>\n",
              "      <td>[studi, aim, investig, serum, matrix, metallop...</td>\n",
              "      <td>2074</td>\n",
              "      <td>[studi, aim, investig, serum, matrix, metallop...</td>\n",
              "      <td>[studi, aim, investig, serum, matrix, metallop...</td>\n",
              "    </tr>\n",
              "    <tr>\n",
              "      <th>...</th>\n",
              "      <td>...</td>\n",
              "      <td>...</td>\n",
              "      <td>...</td>\n",
              "      <td>...</td>\n",
              "      <td>...</td>\n",
              "      <td>...</td>\n",
              "    </tr>\n",
              "    <tr>\n",
              "      <th>7565</th>\n",
              "      <td>7565</td>\n",
              "      <td>Colon_Cancer</td>\n",
              "      <td>[report, case, 24yearold, man, present, chief,...</td>\n",
              "      <td>975</td>\n",
              "      <td>[report, case, 24yearold, man, present, chief,...</td>\n",
              "      <td>[report, case, 24yearold, man, present, chief,...</td>\n",
              "    </tr>\n",
              "    <tr>\n",
              "      <th>7566</th>\n",
              "      <td>7566</td>\n",
              "      <td>Colon_Cancer</td>\n",
              "      <td>[among, synchron, colorect, cancer, scrcs, rep...</td>\n",
              "      <td>840</td>\n",
              "      <td>[among, synchron, colorect, cancer, scrcs, rep...</td>\n",
              "      <td>[among, synchron, colorect, cancer, scrcs, rep...</td>\n",
              "    </tr>\n",
              "    <tr>\n",
              "      <th>7567</th>\n",
              "      <td>7567</td>\n",
              "      <td>Colon_Cancer</td>\n",
              "      <td>[heterogen, cancer, cell, general, accept, ast...</td>\n",
              "      <td>2885</td>\n",
              "      <td>[heterogen, cancer, cell, general, accept, ast...</td>\n",
              "      <td>[heterogen, cancer, cell, general, accept, ast...</td>\n",
              "    </tr>\n",
              "    <tr>\n",
              "      <th>7568</th>\n",
              "      <td>7568</td>\n",
              "      <td>Colon_Cancer</td>\n",
              "      <td>[adipogenesi, process, mesenchymalstem, cell, ...</td>\n",
              "      <td>2494</td>\n",
              "      <td>[adipogenesi, process, mesenchymalstem, cell, ...</td>\n",
              "      <td>[adipogenesi, process, mesenchymalstem, cell, ...</td>\n",
              "    </tr>\n",
              "    <tr>\n",
              "      <th>7569</th>\n",
              "      <td>7569</td>\n",
              "      <td>Colon_Cancer</td>\n",
              "      <td>[periparturi, period, one, challeng, period, d...</td>\n",
              "      <td>3011</td>\n",
              "      <td>[periparturi, period, one, challeng, period, d...</td>\n",
              "      <td>[periparturi, period, one, challeng, period, d...</td>\n",
              "    </tr>\n",
              "  </tbody>\n",
              "</table>\n",
              "<p>7570 rows × 6 columns</p>\n",
              "</div>\n",
              "      <button class=\"colab-df-convert\" onclick=\"convertToInteractive('df-de96d403-a02c-4e1a-8584-58156c3fe47c')\"\n",
              "              title=\"Convert this dataframe to an interactive table.\"\n",
              "              style=\"display:none;\">\n",
              "        \n",
              "  <svg xmlns=\"http://www.w3.org/2000/svg\" height=\"24px\"viewBox=\"0 0 24 24\"\n",
              "       width=\"24px\">\n",
              "    <path d=\"M0 0h24v24H0V0z\" fill=\"none\"/>\n",
              "    <path d=\"M18.56 5.44l.94 2.06.94-2.06 2.06-.94-2.06-.94-.94-2.06-.94 2.06-2.06.94zm-11 1L8.5 8.5l.94-2.06 2.06-.94-2.06-.94L8.5 2.5l-.94 2.06-2.06.94zm10 10l.94 2.06.94-2.06 2.06-.94-2.06-.94-.94-2.06-.94 2.06-2.06.94z\"/><path d=\"M17.41 7.96l-1.37-1.37c-.4-.4-.92-.59-1.43-.59-.52 0-1.04.2-1.43.59L10.3 9.45l-7.72 7.72c-.78.78-.78 2.05 0 2.83L4 21.41c.39.39.9.59 1.41.59.51 0 1.02-.2 1.41-.59l7.78-7.78 2.81-2.81c.8-.78.8-2.07 0-2.86zM5.41 20L4 18.59l7.72-7.72 1.47 1.35L5.41 20z\"/>\n",
              "  </svg>\n",
              "      </button>\n",
              "      \n",
              "  <style>\n",
              "    .colab-df-container {\n",
              "      display:flex;\n",
              "      flex-wrap:wrap;\n",
              "      gap: 12px;\n",
              "    }\n",
              "\n",
              "    .colab-df-convert {\n",
              "      background-color: #E8F0FE;\n",
              "      border: none;\n",
              "      border-radius: 50%;\n",
              "      cursor: pointer;\n",
              "      display: none;\n",
              "      fill: #1967D2;\n",
              "      height: 32px;\n",
              "      padding: 0 0 0 0;\n",
              "      width: 32px;\n",
              "    }\n",
              "\n",
              "    .colab-df-convert:hover {\n",
              "      background-color: #E2EBFA;\n",
              "      box-shadow: 0px 1px 2px rgba(60, 64, 67, 0.3), 0px 1px 3px 1px rgba(60, 64, 67, 0.15);\n",
              "      fill: #174EA6;\n",
              "    }\n",
              "\n",
              "    [theme=dark] .colab-df-convert {\n",
              "      background-color: #3B4455;\n",
              "      fill: #D2E3FC;\n",
              "    }\n",
              "\n",
              "    [theme=dark] .colab-df-convert:hover {\n",
              "      background-color: #434B5C;\n",
              "      box-shadow: 0px 1px 3px 1px rgba(0, 0, 0, 0.15);\n",
              "      filter: drop-shadow(0px 1px 2px rgba(0, 0, 0, 0.3));\n",
              "      fill: #FFFFFF;\n",
              "    }\n",
              "  </style>\n",
              "\n",
              "      <script>\n",
              "        const buttonEl =\n",
              "          document.querySelector('#df-de96d403-a02c-4e1a-8584-58156c3fe47c button.colab-df-convert');\n",
              "        buttonEl.style.display =\n",
              "          google.colab.kernel.accessAllowed ? 'block' : 'none';\n",
              "\n",
              "        async function convertToInteractive(key) {\n",
              "          const element = document.querySelector('#df-de96d403-a02c-4e1a-8584-58156c3fe47c');\n",
              "          const dataTable =\n",
              "            await google.colab.kernel.invokeFunction('convertToInteractive',\n",
              "                                                     [key], {});\n",
              "          if (!dataTable) return;\n",
              "\n",
              "          const docLinkHtml = 'Like what you see? Visit the ' +\n",
              "            '<a target=\"_blank\" href=https://colab.research.google.com/notebooks/data_table.ipynb>data table notebook</a>'\n",
              "            + ' to learn more about interactive tables.';\n",
              "          element.innerHTML = '';\n",
              "          dataTable['output_type'] = 'display_data';\n",
              "          await google.colab.output.renderOutput(dataTable, element);\n",
              "          const docLink = document.createElement('div');\n",
              "          docLink.innerHTML = docLinkHtml;\n",
              "          element.appendChild(docLink);\n",
              "        }\n",
              "      </script>\n",
              "    </div>\n",
              "  </div>\n",
              "  "
            ],
            "text/plain": [
              "      Unnamed: 0               0  \\\n",
              "0              0  Thyroid_Cancer   \n",
              "1              1  Thyroid_Cancer   \n",
              "2              2  Thyroid_Cancer   \n",
              "3              3  Thyroid_Cancer   \n",
              "4              4  Thyroid_Cancer   \n",
              "...          ...             ...   \n",
              "7565        7565    Colon_Cancer   \n",
              "7566        7566    Colon_Cancer   \n",
              "7567        7567    Colon_Cancer   \n",
              "7568        7568    Colon_Cancer   \n",
              "7569        7569    Colon_Cancer   \n",
              "\n",
              "                                                      a  freq  \\\n",
              "0     [thyroid, surgeri, children, singl, institut, ...  2012   \n",
              "1     [adopt, strategi, use, prior, year, base, four...  1619   \n",
              "2     [coronari, arterybypass, graft, thrombosi, mut...  1984   \n",
              "3     [solitari, plasmacytoma, sp, skull, uncommon, ...  1261   \n",
              "4     [studi, aim, investig, serum, matrix, metallop...  2074   \n",
              "...                                                 ...   ...   \n",
              "7565  [report, case, 24yearold, man, present, chief,...   975   \n",
              "7566  [among, synchron, colorect, cancer, scrcs, rep...   840   \n",
              "7567  [heterogen, cancer, cell, general, accept, ast...  2885   \n",
              "7568  [adipogenesi, process, mesenchymalstem, cell, ...  2494   \n",
              "7569  [periparturi, period, one, challeng, period, d...  3011   \n",
              "\n",
              "                                                    new  \\\n",
              "0     [thyroid, surgeri, children, singl, institut, ...   \n",
              "1     [adopt, strategi, use, prior, year, base, four...   \n",
              "2     [coronari, arterybypass, graft, thrombosi, mut...   \n",
              "3     [solitari, plasmacytoma, sp, skull, uncommon, ...   \n",
              "4     [studi, aim, investig, serum, matrix, metallop...   \n",
              "...                                                 ...   \n",
              "7565  [report, case, 24yearold, man, present, chief,...   \n",
              "7566  [among, synchron, colorect, cancer, scrcs, rep...   \n",
              "7567  [heterogen, cancer, cell, general, accept, ast...   \n",
              "7568  [adipogenesi, process, mesenchymalstem, cell, ...   \n",
              "7569  [periparturi, period, one, challeng, period, d...   \n",
              "\n",
              "                                                   new2  \n",
              "0     [thyroid, surgeri, children, singl, institut, ...  \n",
              "1     [adopt, strategi, use, prior, year, base, four...  \n",
              "2     [coronari, arterybypass, graft, thrombosi, mut...  \n",
              "3     [solitari, plasmacytoma, sp, skull, uncommon, ...  \n",
              "4     [studi, aim, investig, serum, matrix, metallop...  \n",
              "...                                                 ...  \n",
              "7565  [report, case, 24yearold, man, present, chief,...  \n",
              "7566  [among, synchron, colorect, cancer, scrcs, rep...  \n",
              "7567  [heterogen, cancer, cell, general, accept, ast...  \n",
              "7568  [adipogenesi, process, mesenchymalstem, cell, ...  \n",
              "7569  [periparturi, period, one, challeng, period, d...  \n",
              "\n",
              "[7570 rows x 6 columns]"
            ]
          },
          "execution_count": 108,
          "metadata": {},
          "output_type": "execute_result"
        }
      ],
      "source": [
        "df"
      ]
    },
    {
      "cell_type": "code",
      "execution_count": null,
      "metadata": {
        "id": "OwvdIF-YGM63"
      },
      "outputs": [],
      "source": [
        "df.drop(['new','new2'],axis=1,inplace = True)"
      ]
    },
    {
      "cell_type": "code",
      "execution_count": null,
      "metadata": {
        "colab": {
          "base_uri": "https://localhost:8080/",
          "height": 423
        },
        "id": "GiVX5v0_GNvy",
        "outputId": "9bf12615-9500-4c09-b484-fa4a52647f38"
      },
      "outputs": [
        {
          "data": {
            "text/html": [
              "\n",
              "  <div id=\"df-77834d42-f77f-4c2a-9093-55d7baac1ce9\">\n",
              "    <div class=\"colab-df-container\">\n",
              "      <div>\n",
              "<style scoped>\n",
              "    .dataframe tbody tr th:only-of-type {\n",
              "        vertical-align: middle;\n",
              "    }\n",
              "\n",
              "    .dataframe tbody tr th {\n",
              "        vertical-align: top;\n",
              "    }\n",
              "\n",
              "    .dataframe thead th {\n",
              "        text-align: right;\n",
              "    }\n",
              "</style>\n",
              "<table border=\"1\" class=\"dataframe\">\n",
              "  <thead>\n",
              "    <tr style=\"text-align: right;\">\n",
              "      <th></th>\n",
              "      <th>Unnamed: 0</th>\n",
              "      <th>0</th>\n",
              "      <th>a</th>\n",
              "      <th>freq</th>\n",
              "    </tr>\n",
              "  </thead>\n",
              "  <tbody>\n",
              "    <tr>\n",
              "      <th>0</th>\n",
              "      <td>0</td>\n",
              "      <td>Thyroid_Cancer</td>\n",
              "      <td>[thyroid, surgeri, children, singl, institut, ...</td>\n",
              "      <td>2012</td>\n",
              "    </tr>\n",
              "    <tr>\n",
              "      <th>1</th>\n",
              "      <td>1</td>\n",
              "      <td>Thyroid_Cancer</td>\n",
              "      <td>[adopt, strategi, use, prior, year, base, four...</td>\n",
              "      <td>1619</td>\n",
              "    </tr>\n",
              "    <tr>\n",
              "      <th>2</th>\n",
              "      <td>2</td>\n",
              "      <td>Thyroid_Cancer</td>\n",
              "      <td>[coronari, arterybypass, graft, thrombosi, mut...</td>\n",
              "      <td>1984</td>\n",
              "    </tr>\n",
              "    <tr>\n",
              "      <th>3</th>\n",
              "      <td>3</td>\n",
              "      <td>Thyroid_Cancer</td>\n",
              "      <td>[solitari, plasmacytoma, sp, skull, uncommon, ...</td>\n",
              "      <td>1261</td>\n",
              "    </tr>\n",
              "    <tr>\n",
              "      <th>4</th>\n",
              "      <td>4</td>\n",
              "      <td>Thyroid_Cancer</td>\n",
              "      <td>[studi, aim, investig, serum, matrix, metallop...</td>\n",
              "      <td>2074</td>\n",
              "    </tr>\n",
              "    <tr>\n",
              "      <th>...</th>\n",
              "      <td>...</td>\n",
              "      <td>...</td>\n",
              "      <td>...</td>\n",
              "      <td>...</td>\n",
              "    </tr>\n",
              "    <tr>\n",
              "      <th>7565</th>\n",
              "      <td>7565</td>\n",
              "      <td>Colon_Cancer</td>\n",
              "      <td>[report, case, 24yearold, man, present, chief,...</td>\n",
              "      <td>975</td>\n",
              "    </tr>\n",
              "    <tr>\n",
              "      <th>7566</th>\n",
              "      <td>7566</td>\n",
              "      <td>Colon_Cancer</td>\n",
              "      <td>[among, synchron, colorect, cancer, scrcs, rep...</td>\n",
              "      <td>840</td>\n",
              "    </tr>\n",
              "    <tr>\n",
              "      <th>7567</th>\n",
              "      <td>7567</td>\n",
              "      <td>Colon_Cancer</td>\n",
              "      <td>[heterogen, cancer, cell, general, accept, ast...</td>\n",
              "      <td>2885</td>\n",
              "    </tr>\n",
              "    <tr>\n",
              "      <th>7568</th>\n",
              "      <td>7568</td>\n",
              "      <td>Colon_Cancer</td>\n",
              "      <td>[adipogenesi, process, mesenchymalstem, cell, ...</td>\n",
              "      <td>2494</td>\n",
              "    </tr>\n",
              "    <tr>\n",
              "      <th>7569</th>\n",
              "      <td>7569</td>\n",
              "      <td>Colon_Cancer</td>\n",
              "      <td>[periparturi, period, one, challeng, period, d...</td>\n",
              "      <td>3011</td>\n",
              "    </tr>\n",
              "  </tbody>\n",
              "</table>\n",
              "<p>7570 rows × 4 columns</p>\n",
              "</div>\n",
              "      <button class=\"colab-df-convert\" onclick=\"convertToInteractive('df-77834d42-f77f-4c2a-9093-55d7baac1ce9')\"\n",
              "              title=\"Convert this dataframe to an interactive table.\"\n",
              "              style=\"display:none;\">\n",
              "        \n",
              "  <svg xmlns=\"http://www.w3.org/2000/svg\" height=\"24px\"viewBox=\"0 0 24 24\"\n",
              "       width=\"24px\">\n",
              "    <path d=\"M0 0h24v24H0V0z\" fill=\"none\"/>\n",
              "    <path d=\"M18.56 5.44l.94 2.06.94-2.06 2.06-.94-2.06-.94-.94-2.06-.94 2.06-2.06.94zm-11 1L8.5 8.5l.94-2.06 2.06-.94-2.06-.94L8.5 2.5l-.94 2.06-2.06.94zm10 10l.94 2.06.94-2.06 2.06-.94-2.06-.94-.94-2.06-.94 2.06-2.06.94z\"/><path d=\"M17.41 7.96l-1.37-1.37c-.4-.4-.92-.59-1.43-.59-.52 0-1.04.2-1.43.59L10.3 9.45l-7.72 7.72c-.78.78-.78 2.05 0 2.83L4 21.41c.39.39.9.59 1.41.59.51 0 1.02-.2 1.41-.59l7.78-7.78 2.81-2.81c.8-.78.8-2.07 0-2.86zM5.41 20L4 18.59l7.72-7.72 1.47 1.35L5.41 20z\"/>\n",
              "  </svg>\n",
              "      </button>\n",
              "      \n",
              "  <style>\n",
              "    .colab-df-container {\n",
              "      display:flex;\n",
              "      flex-wrap:wrap;\n",
              "      gap: 12px;\n",
              "    }\n",
              "\n",
              "    .colab-df-convert {\n",
              "      background-color: #E8F0FE;\n",
              "      border: none;\n",
              "      border-radius: 50%;\n",
              "      cursor: pointer;\n",
              "      display: none;\n",
              "      fill: #1967D2;\n",
              "      height: 32px;\n",
              "      padding: 0 0 0 0;\n",
              "      width: 32px;\n",
              "    }\n",
              "\n",
              "    .colab-df-convert:hover {\n",
              "      background-color: #E2EBFA;\n",
              "      box-shadow: 0px 1px 2px rgba(60, 64, 67, 0.3), 0px 1px 3px 1px rgba(60, 64, 67, 0.15);\n",
              "      fill: #174EA6;\n",
              "    }\n",
              "\n",
              "    [theme=dark] .colab-df-convert {\n",
              "      background-color: #3B4455;\n",
              "      fill: #D2E3FC;\n",
              "    }\n",
              "\n",
              "    [theme=dark] .colab-df-convert:hover {\n",
              "      background-color: #434B5C;\n",
              "      box-shadow: 0px 1px 3px 1px rgba(0, 0, 0, 0.15);\n",
              "      filter: drop-shadow(0px 1px 2px rgba(0, 0, 0, 0.3));\n",
              "      fill: #FFFFFF;\n",
              "    }\n",
              "  </style>\n",
              "\n",
              "      <script>\n",
              "        const buttonEl =\n",
              "          document.querySelector('#df-77834d42-f77f-4c2a-9093-55d7baac1ce9 button.colab-df-convert');\n",
              "        buttonEl.style.display =\n",
              "          google.colab.kernel.accessAllowed ? 'block' : 'none';\n",
              "\n",
              "        async function convertToInteractive(key) {\n",
              "          const element = document.querySelector('#df-77834d42-f77f-4c2a-9093-55d7baac1ce9');\n",
              "          const dataTable =\n",
              "            await google.colab.kernel.invokeFunction('convertToInteractive',\n",
              "                                                     [key], {});\n",
              "          if (!dataTable) return;\n",
              "\n",
              "          const docLinkHtml = 'Like what you see? Visit the ' +\n",
              "            '<a target=\"_blank\" href=https://colab.research.google.com/notebooks/data_table.ipynb>data table notebook</a>'\n",
              "            + ' to learn more about interactive tables.';\n",
              "          element.innerHTML = '';\n",
              "          dataTable['output_type'] = 'display_data';\n",
              "          await google.colab.output.renderOutput(dataTable, element);\n",
              "          const docLink = document.createElement('div');\n",
              "          docLink.innerHTML = docLinkHtml;\n",
              "          element.appendChild(docLink);\n",
              "        }\n",
              "      </script>\n",
              "    </div>\n",
              "  </div>\n",
              "  "
            ],
            "text/plain": [
              "      Unnamed: 0               0  \\\n",
              "0              0  Thyroid_Cancer   \n",
              "1              1  Thyroid_Cancer   \n",
              "2              2  Thyroid_Cancer   \n",
              "3              3  Thyroid_Cancer   \n",
              "4              4  Thyroid_Cancer   \n",
              "...          ...             ...   \n",
              "7565        7565    Colon_Cancer   \n",
              "7566        7566    Colon_Cancer   \n",
              "7567        7567    Colon_Cancer   \n",
              "7568        7568    Colon_Cancer   \n",
              "7569        7569    Colon_Cancer   \n",
              "\n",
              "                                                      a  freq  \n",
              "0     [thyroid, surgeri, children, singl, institut, ...  2012  \n",
              "1     [adopt, strategi, use, prior, year, base, four...  1619  \n",
              "2     [coronari, arterybypass, graft, thrombosi, mut...  1984  \n",
              "3     [solitari, plasmacytoma, sp, skull, uncommon, ...  1261  \n",
              "4     [studi, aim, investig, serum, matrix, metallop...  2074  \n",
              "...                                                 ...   ...  \n",
              "7565  [report, case, 24yearold, man, present, chief,...   975  \n",
              "7566  [among, synchron, colorect, cancer, scrcs, rep...   840  \n",
              "7567  [heterogen, cancer, cell, general, accept, ast...  2885  \n",
              "7568  [adipogenesi, process, mesenchymalstem, cell, ...  2494  \n",
              "7569  [periparturi, period, one, challeng, period, d...  3011  \n",
              "\n",
              "[7570 rows x 4 columns]"
            ]
          },
          "execution_count": 110,
          "metadata": {},
          "output_type": "execute_result"
        }
      ],
      "source": [
        "df"
      ]
    },
    {
      "cell_type": "code",
      "execution_count": null,
      "metadata": {
        "id": "x7gXAYgqGRt1"
      },
      "outputs": [],
      "source": [
        "data = df.copy()"
      ]
    },
    {
      "cell_type": "code",
      "execution_count": null,
      "metadata": {
        "colab": {
          "base_uri": "https://localhost:8080/"
        },
        "id": "906qzXauGUJi",
        "outputId": "d4b11468-dbc8-4f87-a08a-00db0b5fa1b1"
      },
      "outputs": [
        {
          "data": {
            "text/plain": [
              "Index(['Unnamed: 0', '0', 'a', 'freq'], dtype='object')"
            ]
          },
          "execution_count": 112,
          "metadata": {},
          "output_type": "execute_result"
        }
      ],
      "source": [
        "data.columns"
      ]
    },
    {
      "cell_type": "code",
      "execution_count": null,
      "metadata": {
        "id": "dl_9QmhZGV40"
      },
      "outputs": [],
      "source": [
        "data.drop(['Unnamed: 0'],axis=1,inplace=True)"
      ]
    },
    {
      "cell_type": "code",
      "execution_count": null,
      "metadata": {
        "colab": {
          "base_uri": "https://localhost:8080/"
        },
        "id": "I9mYlpUjGYZy",
        "outputId": "eb8698b5-b33d-49e1-bef1-9c255cb7c8af"
      },
      "outputs": [
        {
          "data": {
            "text/plain": [
              "<bound method NDFrame.head of                    0                                                  a  freq\n",
              "0     Thyroid_Cancer  [thyroid, surgeri, children, singl, institut, ...  2012\n",
              "1     Thyroid_Cancer  [adopt, strategi, use, prior, year, base, four...  1619\n",
              "2     Thyroid_Cancer  [coronari, arterybypass, graft, thrombosi, mut...  1984\n",
              "3     Thyroid_Cancer  [solitari, plasmacytoma, sp, skull, uncommon, ...  1261\n",
              "4     Thyroid_Cancer  [studi, aim, investig, serum, matrix, metallop...  2074\n",
              "...              ...                                                ...   ...\n",
              "7565    Colon_Cancer  [report, case, 24yearold, man, present, chief,...   975\n",
              "7566    Colon_Cancer  [among, synchron, colorect, cancer, scrcs, rep...   840\n",
              "7567    Colon_Cancer  [heterogen, cancer, cell, general, accept, ast...  2885\n",
              "7568    Colon_Cancer  [adipogenesi, process, mesenchymalstem, cell, ...  2494\n",
              "7569    Colon_Cancer  [periparturi, period, one, challeng, period, d...  3011\n",
              "\n",
              "[7570 rows x 3 columns]>"
            ]
          },
          "execution_count": 114,
          "metadata": {},
          "output_type": "execute_result"
        }
      ],
      "source": [
        "data.head"
      ]
    },
    {
      "cell_type": "code",
      "execution_count": null,
      "metadata": {
        "id": "he9WnikfGZXQ"
      },
      "outputs": [],
      "source": [
        "import tensorflow as tf"
      ]
    },
    {
      "cell_type": "code",
      "execution_count": null,
      "metadata": {
        "id": "hQqGQhHmGbs6"
      },
      "outputs": [],
      "source": [
        "training_df: pd.DataFrame = pd.DataFrame(\n",
        "  data\n",
        ")"
      ]
    },
    {
      "cell_type": "code",
      "execution_count": null,
      "metadata": {
        "colab": {
          "base_uri": "https://localhost:8080/",
          "height": 423
        },
        "id": "WXCa3Wa7Gdxo",
        "outputId": "601b3179-2c31-45fa-e66d-b8a3ab8bd33e"
      },
      "outputs": [
        {
          "data": {
            "text/html": [
              "\n",
              "  <div id=\"df-82db84a2-1a2b-4f44-9013-0c8ccde74e75\">\n",
              "    <div class=\"colab-df-container\">\n",
              "      <div>\n",
              "<style scoped>\n",
              "    .dataframe tbody tr th:only-of-type {\n",
              "        vertical-align: middle;\n",
              "    }\n",
              "\n",
              "    .dataframe tbody tr th {\n",
              "        vertical-align: top;\n",
              "    }\n",
              "\n",
              "    .dataframe thead th {\n",
              "        text-align: right;\n",
              "    }\n",
              "</style>\n",
              "<table border=\"1\" class=\"dataframe\">\n",
              "  <thead>\n",
              "    <tr style=\"text-align: right;\">\n",
              "      <th></th>\n",
              "      <th>0</th>\n",
              "      <th>a</th>\n",
              "      <th>freq</th>\n",
              "    </tr>\n",
              "  </thead>\n",
              "  <tbody>\n",
              "    <tr>\n",
              "      <th>0</th>\n",
              "      <td>Thyroid_Cancer</td>\n",
              "      <td>[thyroid, surgeri, children, singl, institut, ...</td>\n",
              "      <td>2012</td>\n",
              "    </tr>\n",
              "    <tr>\n",
              "      <th>1</th>\n",
              "      <td>Thyroid_Cancer</td>\n",
              "      <td>[adopt, strategi, use, prior, year, base, four...</td>\n",
              "      <td>1619</td>\n",
              "    </tr>\n",
              "    <tr>\n",
              "      <th>2</th>\n",
              "      <td>Thyroid_Cancer</td>\n",
              "      <td>[coronari, arterybypass, graft, thrombosi, mut...</td>\n",
              "      <td>1984</td>\n",
              "    </tr>\n",
              "    <tr>\n",
              "      <th>3</th>\n",
              "      <td>Thyroid_Cancer</td>\n",
              "      <td>[solitari, plasmacytoma, sp, skull, uncommon, ...</td>\n",
              "      <td>1261</td>\n",
              "    </tr>\n",
              "    <tr>\n",
              "      <th>4</th>\n",
              "      <td>Thyroid_Cancer</td>\n",
              "      <td>[studi, aim, investig, serum, matrix, metallop...</td>\n",
              "      <td>2074</td>\n",
              "    </tr>\n",
              "    <tr>\n",
              "      <th>...</th>\n",
              "      <td>...</td>\n",
              "      <td>...</td>\n",
              "      <td>...</td>\n",
              "    </tr>\n",
              "    <tr>\n",
              "      <th>7565</th>\n",
              "      <td>Colon_Cancer</td>\n",
              "      <td>[report, case, 24yearold, man, present, chief,...</td>\n",
              "      <td>975</td>\n",
              "    </tr>\n",
              "    <tr>\n",
              "      <th>7566</th>\n",
              "      <td>Colon_Cancer</td>\n",
              "      <td>[among, synchron, colorect, cancer, scrcs, rep...</td>\n",
              "      <td>840</td>\n",
              "    </tr>\n",
              "    <tr>\n",
              "      <th>7567</th>\n",
              "      <td>Colon_Cancer</td>\n",
              "      <td>[heterogen, cancer, cell, general, accept, ast...</td>\n",
              "      <td>2885</td>\n",
              "    </tr>\n",
              "    <tr>\n",
              "      <th>7568</th>\n",
              "      <td>Colon_Cancer</td>\n",
              "      <td>[adipogenesi, process, mesenchymalstem, cell, ...</td>\n",
              "      <td>2494</td>\n",
              "    </tr>\n",
              "    <tr>\n",
              "      <th>7569</th>\n",
              "      <td>Colon_Cancer</td>\n",
              "      <td>[periparturi, period, one, challeng, period, d...</td>\n",
              "      <td>3011</td>\n",
              "    </tr>\n",
              "  </tbody>\n",
              "</table>\n",
              "<p>7570 rows × 3 columns</p>\n",
              "</div>\n",
              "      <button class=\"colab-df-convert\" onclick=\"convertToInteractive('df-82db84a2-1a2b-4f44-9013-0c8ccde74e75')\"\n",
              "              title=\"Convert this dataframe to an interactive table.\"\n",
              "              style=\"display:none;\">\n",
              "        \n",
              "  <svg xmlns=\"http://www.w3.org/2000/svg\" height=\"24px\"viewBox=\"0 0 24 24\"\n",
              "       width=\"24px\">\n",
              "    <path d=\"M0 0h24v24H0V0z\" fill=\"none\"/>\n",
              "    <path d=\"M18.56 5.44l.94 2.06.94-2.06 2.06-.94-2.06-.94-.94-2.06-.94 2.06-2.06.94zm-11 1L8.5 8.5l.94-2.06 2.06-.94-2.06-.94L8.5 2.5l-.94 2.06-2.06.94zm10 10l.94 2.06.94-2.06 2.06-.94-2.06-.94-.94-2.06-.94 2.06-2.06.94z\"/><path d=\"M17.41 7.96l-1.37-1.37c-.4-.4-.92-.59-1.43-.59-.52 0-1.04.2-1.43.59L10.3 9.45l-7.72 7.72c-.78.78-.78 2.05 0 2.83L4 21.41c.39.39.9.59 1.41.59.51 0 1.02-.2 1.41-.59l7.78-7.78 2.81-2.81c.8-.78.8-2.07 0-2.86zM5.41 20L4 18.59l7.72-7.72 1.47 1.35L5.41 20z\"/>\n",
              "  </svg>\n",
              "      </button>\n",
              "      \n",
              "  <style>\n",
              "    .colab-df-container {\n",
              "      display:flex;\n",
              "      flex-wrap:wrap;\n",
              "      gap: 12px;\n",
              "    }\n",
              "\n",
              "    .colab-df-convert {\n",
              "      background-color: #E8F0FE;\n",
              "      border: none;\n",
              "      border-radius: 50%;\n",
              "      cursor: pointer;\n",
              "      display: none;\n",
              "      fill: #1967D2;\n",
              "      height: 32px;\n",
              "      padding: 0 0 0 0;\n",
              "      width: 32px;\n",
              "    }\n",
              "\n",
              "    .colab-df-convert:hover {\n",
              "      background-color: #E2EBFA;\n",
              "      box-shadow: 0px 1px 2px rgba(60, 64, 67, 0.3), 0px 1px 3px 1px rgba(60, 64, 67, 0.15);\n",
              "      fill: #174EA6;\n",
              "    }\n",
              "\n",
              "    [theme=dark] .colab-df-convert {\n",
              "      background-color: #3B4455;\n",
              "      fill: #D2E3FC;\n",
              "    }\n",
              "\n",
              "    [theme=dark] .colab-df-convert:hover {\n",
              "      background-color: #434B5C;\n",
              "      box-shadow: 0px 1px 3px 1px rgba(0, 0, 0, 0.15);\n",
              "      filter: drop-shadow(0px 1px 2px rgba(0, 0, 0, 0.3));\n",
              "      fill: #FFFFFF;\n",
              "    }\n",
              "  </style>\n",
              "\n",
              "      <script>\n",
              "        const buttonEl =\n",
              "          document.querySelector('#df-82db84a2-1a2b-4f44-9013-0c8ccde74e75 button.colab-df-convert');\n",
              "        buttonEl.style.display =\n",
              "          google.colab.kernel.accessAllowed ? 'block' : 'none';\n",
              "\n",
              "        async function convertToInteractive(key) {\n",
              "          const element = document.querySelector('#df-82db84a2-1a2b-4f44-9013-0c8ccde74e75');\n",
              "          const dataTable =\n",
              "            await google.colab.kernel.invokeFunction('convertToInteractive',\n",
              "                                                     [key], {});\n",
              "          if (!dataTable) return;\n",
              "\n",
              "          const docLinkHtml = 'Like what you see? Visit the ' +\n",
              "            '<a target=\"_blank\" href=https://colab.research.google.com/notebooks/data_table.ipynb>data table notebook</a>'\n",
              "            + ' to learn more about interactive tables.';\n",
              "          element.innerHTML = '';\n",
              "          dataTable['output_type'] = 'display_data';\n",
              "          await google.colab.output.renderOutput(dataTable, element);\n",
              "          const docLink = document.createElement('div');\n",
              "          docLink.innerHTML = docLinkHtml;\n",
              "          element.appendChild(docLink);\n",
              "        }\n",
              "      </script>\n",
              "    </div>\n",
              "  </div>\n",
              "  "
            ],
            "text/plain": [
              "                   0                                                  a  freq\n",
              "0     Thyroid_Cancer  [thyroid, surgeri, children, singl, institut, ...  2012\n",
              "1     Thyroid_Cancer  [adopt, strategi, use, prior, year, base, four...  1619\n",
              "2     Thyroid_Cancer  [coronari, arterybypass, graft, thrombosi, mut...  1984\n",
              "3     Thyroid_Cancer  [solitari, plasmacytoma, sp, skull, uncommon, ...  1261\n",
              "4     Thyroid_Cancer  [studi, aim, investig, serum, matrix, metallop...  2074\n",
              "...              ...                                                ...   ...\n",
              "7565    Colon_Cancer  [report, case, 24yearold, man, present, chief,...   975\n",
              "7566    Colon_Cancer  [among, synchron, colorect, cancer, scrcs, rep...   840\n",
              "7567    Colon_Cancer  [heterogen, cancer, cell, general, accept, ast...  2885\n",
              "7568    Colon_Cancer  [adipogenesi, process, mesenchymalstem, cell, ...  2494\n",
              "7569    Colon_Cancer  [periparturi, period, one, challeng, period, d...  3011\n",
              "\n",
              "[7570 rows x 3 columns]"
            ]
          },
          "execution_count": 117,
          "metadata": {},
          "output_type": "execute_result"
        }
      ],
      "source": [
        "training_df"
      ]
    },
    {
      "cell_type": "code",
      "execution_count": null,
      "metadata": {
        "id": "m7a0o494Ggu3"
      },
      "outputs": [],
      "source": [
        "training_df.drop('freq',axis=1,inplace=True)"
      ]
    },
    {
      "cell_type": "code",
      "execution_count": null,
      "metadata": {
        "colab": {
          "base_uri": "https://localhost:8080/"
        },
        "id": "CUHj1pe1GjUl",
        "outputId": "dfe5460f-ccc0-4866-99b0-8b6ba1219d03"
      },
      "outputs": [
        {
          "data": {
            "text/plain": [
              "array(['Thyroid_Cancer', 'Thyroid_Cancer', 'Thyroid_Cancer', ...,\n",
              "       'Colon_Cancer', 'Colon_Cancer', 'Colon_Cancer'], dtype=object)"
            ]
          },
          "execution_count": 119,
          "metadata": {},
          "output_type": "execute_result"
        }
      ],
      "source": [
        "training_df['0'].values"
      ]
    },
    {
      "cell_type": "code",
      "execution_count": null,
      "metadata": {
        "id": "u_don9CbGlMq"
      },
      "outputs": [],
      "source": [
        "features = ['a']"
      ]
    },
    {
      "cell_type": "code",
      "execution_count": null,
      "metadata": {
        "id": "ZrYyKGaoGnJx"
      },
      "outputs": [],
      "source": [
        "from sklearn.preprocessing import LabelEncoder"
      ]
    },
    {
      "cell_type": "code",
      "execution_count": null,
      "metadata": {
        "id": "YWKLLayrJabr"
      },
      "outputs": [],
      "source": [
        "le = LabelEncoder()"
      ]
    },
    {
      "cell_type": "code",
      "execution_count": null,
      "metadata": {
        "id": "6fcHJa5nJcU4"
      },
      "outputs": [],
      "source": [
        "data['new'] = le.fit_transform(data['0'])"
      ]
    },
    {
      "cell_type": "code",
      "execution_count": null,
      "metadata": {
        "colab": {
          "base_uri": "https://localhost:8080/"
        },
        "id": "ixg6qTKKJefW",
        "outputId": "062e5f7a-4766-4a14-bb8d-d8ccbfbad6bf"
      },
      "outputs": [
        {
          "data": {
            "text/plain": [
              "2    2810\n",
              "0    2580\n",
              "1    2180\n",
              "Name: new, dtype: int64"
            ]
          },
          "execution_count": 126,
          "metadata": {},
          "output_type": "execute_result"
        }
      ],
      "source": [
        "data['new'].value_counts()"
      ]
    },
    {
      "cell_type": "code",
      "execution_count": null,
      "metadata": {
        "colab": {
          "base_uri": "https://localhost:8080/",
          "height": 423
        },
        "id": "rdYs5foFJia4",
        "outputId": "edaa5830-283b-421c-873f-f99b8fe974c9"
      },
      "outputs": [
        {
          "data": {
            "text/html": [
              "\n",
              "  <div id=\"df-68ed8bcf-afb1-4bb4-8524-c4efc179d746\">\n",
              "    <div class=\"colab-df-container\">\n",
              "      <div>\n",
              "<style scoped>\n",
              "    .dataframe tbody tr th:only-of-type {\n",
              "        vertical-align: middle;\n",
              "    }\n",
              "\n",
              "    .dataframe tbody tr th {\n",
              "        vertical-align: top;\n",
              "    }\n",
              "\n",
              "    .dataframe thead th {\n",
              "        text-align: right;\n",
              "    }\n",
              "</style>\n",
              "<table border=\"1\" class=\"dataframe\">\n",
              "  <thead>\n",
              "    <tr style=\"text-align: right;\">\n",
              "      <th></th>\n",
              "      <th>0</th>\n",
              "      <th>a</th>\n",
              "      <th>freq</th>\n",
              "      <th>new</th>\n",
              "    </tr>\n",
              "  </thead>\n",
              "  <tbody>\n",
              "    <tr>\n",
              "      <th>0</th>\n",
              "      <td>Thyroid_Cancer</td>\n",
              "      <td>[thyroid, surgeri, children, singl, institut, ...</td>\n",
              "      <td>2012</td>\n",
              "      <td>2</td>\n",
              "    </tr>\n",
              "    <tr>\n",
              "      <th>1</th>\n",
              "      <td>Thyroid_Cancer</td>\n",
              "      <td>[adopt, strategi, use, prior, year, base, four...</td>\n",
              "      <td>1619</td>\n",
              "      <td>2</td>\n",
              "    </tr>\n",
              "    <tr>\n",
              "      <th>2</th>\n",
              "      <td>Thyroid_Cancer</td>\n",
              "      <td>[coronari, arterybypass, graft, thrombosi, mut...</td>\n",
              "      <td>1984</td>\n",
              "      <td>2</td>\n",
              "    </tr>\n",
              "    <tr>\n",
              "      <th>3</th>\n",
              "      <td>Thyroid_Cancer</td>\n",
              "      <td>[solitari, plasmacytoma, sp, skull, uncommon, ...</td>\n",
              "      <td>1261</td>\n",
              "      <td>2</td>\n",
              "    </tr>\n",
              "    <tr>\n",
              "      <th>4</th>\n",
              "      <td>Thyroid_Cancer</td>\n",
              "      <td>[studi, aim, investig, serum, matrix, metallop...</td>\n",
              "      <td>2074</td>\n",
              "      <td>2</td>\n",
              "    </tr>\n",
              "    <tr>\n",
              "      <th>...</th>\n",
              "      <td>...</td>\n",
              "      <td>...</td>\n",
              "      <td>...</td>\n",
              "      <td>...</td>\n",
              "    </tr>\n",
              "    <tr>\n",
              "      <th>7565</th>\n",
              "      <td>Colon_Cancer</td>\n",
              "      <td>[report, case, 24yearold, man, present, chief,...</td>\n",
              "      <td>975</td>\n",
              "      <td>0</td>\n",
              "    </tr>\n",
              "    <tr>\n",
              "      <th>7566</th>\n",
              "      <td>Colon_Cancer</td>\n",
              "      <td>[among, synchron, colorect, cancer, scrcs, rep...</td>\n",
              "      <td>840</td>\n",
              "      <td>0</td>\n",
              "    </tr>\n",
              "    <tr>\n",
              "      <th>7567</th>\n",
              "      <td>Colon_Cancer</td>\n",
              "      <td>[heterogen, cancer, cell, general, accept, ast...</td>\n",
              "      <td>2885</td>\n",
              "      <td>0</td>\n",
              "    </tr>\n",
              "    <tr>\n",
              "      <th>7568</th>\n",
              "      <td>Colon_Cancer</td>\n",
              "      <td>[adipogenesi, process, mesenchymalstem, cell, ...</td>\n",
              "      <td>2494</td>\n",
              "      <td>0</td>\n",
              "    </tr>\n",
              "    <tr>\n",
              "      <th>7569</th>\n",
              "      <td>Colon_Cancer</td>\n",
              "      <td>[periparturi, period, one, challeng, period, d...</td>\n",
              "      <td>3011</td>\n",
              "      <td>0</td>\n",
              "    </tr>\n",
              "  </tbody>\n",
              "</table>\n",
              "<p>7570 rows × 4 columns</p>\n",
              "</div>\n",
              "      <button class=\"colab-df-convert\" onclick=\"convertToInteractive('df-68ed8bcf-afb1-4bb4-8524-c4efc179d746')\"\n",
              "              title=\"Convert this dataframe to an interactive table.\"\n",
              "              style=\"display:none;\">\n",
              "        \n",
              "  <svg xmlns=\"http://www.w3.org/2000/svg\" height=\"24px\"viewBox=\"0 0 24 24\"\n",
              "       width=\"24px\">\n",
              "    <path d=\"M0 0h24v24H0V0z\" fill=\"none\"/>\n",
              "    <path d=\"M18.56 5.44l.94 2.06.94-2.06 2.06-.94-2.06-.94-.94-2.06-.94 2.06-2.06.94zm-11 1L8.5 8.5l.94-2.06 2.06-.94-2.06-.94L8.5 2.5l-.94 2.06-2.06.94zm10 10l.94 2.06.94-2.06 2.06-.94-2.06-.94-.94-2.06-.94 2.06-2.06.94z\"/><path d=\"M17.41 7.96l-1.37-1.37c-.4-.4-.92-.59-1.43-.59-.52 0-1.04.2-1.43.59L10.3 9.45l-7.72 7.72c-.78.78-.78 2.05 0 2.83L4 21.41c.39.39.9.59 1.41.59.51 0 1.02-.2 1.41-.59l7.78-7.78 2.81-2.81c.8-.78.8-2.07 0-2.86zM5.41 20L4 18.59l7.72-7.72 1.47 1.35L5.41 20z\"/>\n",
              "  </svg>\n",
              "      </button>\n",
              "      \n",
              "  <style>\n",
              "    .colab-df-container {\n",
              "      display:flex;\n",
              "      flex-wrap:wrap;\n",
              "      gap: 12px;\n",
              "    }\n",
              "\n",
              "    .colab-df-convert {\n",
              "      background-color: #E8F0FE;\n",
              "      border: none;\n",
              "      border-radius: 50%;\n",
              "      cursor: pointer;\n",
              "      display: none;\n",
              "      fill: #1967D2;\n",
              "      height: 32px;\n",
              "      padding: 0 0 0 0;\n",
              "      width: 32px;\n",
              "    }\n",
              "\n",
              "    .colab-df-convert:hover {\n",
              "      background-color: #E2EBFA;\n",
              "      box-shadow: 0px 1px 2px rgba(60, 64, 67, 0.3), 0px 1px 3px 1px rgba(60, 64, 67, 0.15);\n",
              "      fill: #174EA6;\n",
              "    }\n",
              "\n",
              "    [theme=dark] .colab-df-convert {\n",
              "      background-color: #3B4455;\n",
              "      fill: #D2E3FC;\n",
              "    }\n",
              "\n",
              "    [theme=dark] .colab-df-convert:hover {\n",
              "      background-color: #434B5C;\n",
              "      box-shadow: 0px 1px 3px 1px rgba(0, 0, 0, 0.15);\n",
              "      filter: drop-shadow(0px 1px 2px rgba(0, 0, 0, 0.3));\n",
              "      fill: #FFFFFF;\n",
              "    }\n",
              "  </style>\n",
              "\n",
              "      <script>\n",
              "        const buttonEl =\n",
              "          document.querySelector('#df-68ed8bcf-afb1-4bb4-8524-c4efc179d746 button.colab-df-convert');\n",
              "        buttonEl.style.display =\n",
              "          google.colab.kernel.accessAllowed ? 'block' : 'none';\n",
              "\n",
              "        async function convertToInteractive(key) {\n",
              "          const element = document.querySelector('#df-68ed8bcf-afb1-4bb4-8524-c4efc179d746');\n",
              "          const dataTable =\n",
              "            await google.colab.kernel.invokeFunction('convertToInteractive',\n",
              "                                                     [key], {});\n",
              "          if (!dataTable) return;\n",
              "\n",
              "          const docLinkHtml = 'Like what you see? Visit the ' +\n",
              "            '<a target=\"_blank\" href=https://colab.research.google.com/notebooks/data_table.ipynb>data table notebook</a>'\n",
              "            + ' to learn more about interactive tables.';\n",
              "          element.innerHTML = '';\n",
              "          dataTable['output_type'] = 'display_data';\n",
              "          await google.colab.output.renderOutput(dataTable, element);\n",
              "          const docLink = document.createElement('div');\n",
              "          docLink.innerHTML = docLinkHtml;\n",
              "          element.appendChild(docLink);\n",
              "        }\n",
              "      </script>\n",
              "    </div>\n",
              "  </div>\n",
              "  "
            ],
            "text/plain": [
              "                   0                                                  a  freq  \\\n",
              "0     Thyroid_Cancer  [thyroid, surgeri, children, singl, institut, ...  2012   \n",
              "1     Thyroid_Cancer  [adopt, strategi, use, prior, year, base, four...  1619   \n",
              "2     Thyroid_Cancer  [coronari, arterybypass, graft, thrombosi, mut...  1984   \n",
              "3     Thyroid_Cancer  [solitari, plasmacytoma, sp, skull, uncommon, ...  1261   \n",
              "4     Thyroid_Cancer  [studi, aim, investig, serum, matrix, metallop...  2074   \n",
              "...              ...                                                ...   ...   \n",
              "7565    Colon_Cancer  [report, case, 24yearold, man, present, chief,...   975   \n",
              "7566    Colon_Cancer  [among, synchron, colorect, cancer, scrcs, rep...   840   \n",
              "7567    Colon_Cancer  [heterogen, cancer, cell, general, accept, ast...  2885   \n",
              "7568    Colon_Cancer  [adipogenesi, process, mesenchymalstem, cell, ...  2494   \n",
              "7569    Colon_Cancer  [periparturi, period, one, challeng, period, d...  3011   \n",
              "\n",
              "      new  \n",
              "0       2  \n",
              "1       2  \n",
              "2       2  \n",
              "3       2  \n",
              "4       2  \n",
              "...   ...  \n",
              "7565    0  \n",
              "7566    0  \n",
              "7567    0  \n",
              "7568    0  \n",
              "7569    0  \n",
              "\n",
              "[7570 rows x 4 columns]"
            ]
          },
          "execution_count": 128,
          "metadata": {},
          "output_type": "execute_result"
        }
      ],
      "source": [
        "data"
      ]
    },
    {
      "cell_type": "code",
      "execution_count": null,
      "metadata": {
        "id": "Yozmo-TOJlYf"
      },
      "outputs": [],
      "source": [
        "data.drop(['0','freq'],axis=1,inplace=True)"
      ]
    },
    {
      "cell_type": "code",
      "execution_count": null,
      "metadata": {
        "colab": {
          "base_uri": "https://localhost:8080/",
          "height": 423
        },
        "id": "0SA0-Fp9URL-",
        "outputId": "52dd2c67-9f69-4019-c34d-d221af0b426c"
      },
      "outputs": [
        {
          "data": {
            "text/html": [
              "\n",
              "  <div id=\"df-9825c72e-af7c-44e4-a4d7-b8b0a1fca2f1\">\n",
              "    <div class=\"colab-df-container\">\n",
              "      <div>\n",
              "<style scoped>\n",
              "    .dataframe tbody tr th:only-of-type {\n",
              "        vertical-align: middle;\n",
              "    }\n",
              "\n",
              "    .dataframe tbody tr th {\n",
              "        vertical-align: top;\n",
              "    }\n",
              "\n",
              "    .dataframe thead th {\n",
              "        text-align: right;\n",
              "    }\n",
              "</style>\n",
              "<table border=\"1\" class=\"dataframe\">\n",
              "  <thead>\n",
              "    <tr style=\"text-align: right;\">\n",
              "      <th></th>\n",
              "      <th>a</th>\n",
              "      <th>new</th>\n",
              "    </tr>\n",
              "  </thead>\n",
              "  <tbody>\n",
              "    <tr>\n",
              "      <th>0</th>\n",
              "      <td>[thyroid, surgeri, children, singl, institut, ...</td>\n",
              "      <td>2</td>\n",
              "    </tr>\n",
              "    <tr>\n",
              "      <th>1</th>\n",
              "      <td>[adopt, strategi, use, prior, year, base, four...</td>\n",
              "      <td>2</td>\n",
              "    </tr>\n",
              "    <tr>\n",
              "      <th>2</th>\n",
              "      <td>[coronari, arterybypass, graft, thrombosi, mut...</td>\n",
              "      <td>2</td>\n",
              "    </tr>\n",
              "    <tr>\n",
              "      <th>3</th>\n",
              "      <td>[solitari, plasmacytoma, sp, skull, uncommon, ...</td>\n",
              "      <td>2</td>\n",
              "    </tr>\n",
              "    <tr>\n",
              "      <th>4</th>\n",
              "      <td>[studi, aim, investig, serum, matrix, metallop...</td>\n",
              "      <td>2</td>\n",
              "    </tr>\n",
              "    <tr>\n",
              "      <th>...</th>\n",
              "      <td>...</td>\n",
              "      <td>...</td>\n",
              "    </tr>\n",
              "    <tr>\n",
              "      <th>7565</th>\n",
              "      <td>[report, case, 24yearold, man, present, chief,...</td>\n",
              "      <td>0</td>\n",
              "    </tr>\n",
              "    <tr>\n",
              "      <th>7566</th>\n",
              "      <td>[among, synchron, colorect, cancer, scrcs, rep...</td>\n",
              "      <td>0</td>\n",
              "    </tr>\n",
              "    <tr>\n",
              "      <th>7567</th>\n",
              "      <td>[heterogen, cancer, cell, general, accept, ast...</td>\n",
              "      <td>0</td>\n",
              "    </tr>\n",
              "    <tr>\n",
              "      <th>7568</th>\n",
              "      <td>[adipogenesi, process, mesenchymalstem, cell, ...</td>\n",
              "      <td>0</td>\n",
              "    </tr>\n",
              "    <tr>\n",
              "      <th>7569</th>\n",
              "      <td>[periparturi, period, one, challeng, period, d...</td>\n",
              "      <td>0</td>\n",
              "    </tr>\n",
              "  </tbody>\n",
              "</table>\n",
              "<p>7570 rows × 2 columns</p>\n",
              "</div>\n",
              "      <button class=\"colab-df-convert\" onclick=\"convertToInteractive('df-9825c72e-af7c-44e4-a4d7-b8b0a1fca2f1')\"\n",
              "              title=\"Convert this dataframe to an interactive table.\"\n",
              "              style=\"display:none;\">\n",
              "        \n",
              "  <svg xmlns=\"http://www.w3.org/2000/svg\" height=\"24px\"viewBox=\"0 0 24 24\"\n",
              "       width=\"24px\">\n",
              "    <path d=\"M0 0h24v24H0V0z\" fill=\"none\"/>\n",
              "    <path d=\"M18.56 5.44l.94 2.06.94-2.06 2.06-.94-2.06-.94-.94-2.06-.94 2.06-2.06.94zm-11 1L8.5 8.5l.94-2.06 2.06-.94-2.06-.94L8.5 2.5l-.94 2.06-2.06.94zm10 10l.94 2.06.94-2.06 2.06-.94-2.06-.94-.94-2.06-.94 2.06-2.06.94z\"/><path d=\"M17.41 7.96l-1.37-1.37c-.4-.4-.92-.59-1.43-.59-.52 0-1.04.2-1.43.59L10.3 9.45l-7.72 7.72c-.78.78-.78 2.05 0 2.83L4 21.41c.39.39.9.59 1.41.59.51 0 1.02-.2 1.41-.59l7.78-7.78 2.81-2.81c.8-.78.8-2.07 0-2.86zM5.41 20L4 18.59l7.72-7.72 1.47 1.35L5.41 20z\"/>\n",
              "  </svg>\n",
              "      </button>\n",
              "      \n",
              "  <style>\n",
              "    .colab-df-container {\n",
              "      display:flex;\n",
              "      flex-wrap:wrap;\n",
              "      gap: 12px;\n",
              "    }\n",
              "\n",
              "    .colab-df-convert {\n",
              "      background-color: #E8F0FE;\n",
              "      border: none;\n",
              "      border-radius: 50%;\n",
              "      cursor: pointer;\n",
              "      display: none;\n",
              "      fill: #1967D2;\n",
              "      height: 32px;\n",
              "      padding: 0 0 0 0;\n",
              "      width: 32px;\n",
              "    }\n",
              "\n",
              "    .colab-df-convert:hover {\n",
              "      background-color: #E2EBFA;\n",
              "      box-shadow: 0px 1px 2px rgba(60, 64, 67, 0.3), 0px 1px 3px 1px rgba(60, 64, 67, 0.15);\n",
              "      fill: #174EA6;\n",
              "    }\n",
              "\n",
              "    [theme=dark] .colab-df-convert {\n",
              "      background-color: #3B4455;\n",
              "      fill: #D2E3FC;\n",
              "    }\n",
              "\n",
              "    [theme=dark] .colab-df-convert:hover {\n",
              "      background-color: #434B5C;\n",
              "      box-shadow: 0px 1px 3px 1px rgba(0, 0, 0, 0.15);\n",
              "      filter: drop-shadow(0px 1px 2px rgba(0, 0, 0, 0.3));\n",
              "      fill: #FFFFFF;\n",
              "    }\n",
              "  </style>\n",
              "\n",
              "      <script>\n",
              "        const buttonEl =\n",
              "          document.querySelector('#df-9825c72e-af7c-44e4-a4d7-b8b0a1fca2f1 button.colab-df-convert');\n",
              "        buttonEl.style.display =\n",
              "          google.colab.kernel.accessAllowed ? 'block' : 'none';\n",
              "\n",
              "        async function convertToInteractive(key) {\n",
              "          const element = document.querySelector('#df-9825c72e-af7c-44e4-a4d7-b8b0a1fca2f1');\n",
              "          const dataTable =\n",
              "            await google.colab.kernel.invokeFunction('convertToInteractive',\n",
              "                                                     [key], {});\n",
              "          if (!dataTable) return;\n",
              "\n",
              "          const docLinkHtml = 'Like what you see? Visit the ' +\n",
              "            '<a target=\"_blank\" href=https://colab.research.google.com/notebooks/data_table.ipynb>data table notebook</a>'\n",
              "            + ' to learn more about interactive tables.';\n",
              "          element.innerHTML = '';\n",
              "          dataTable['output_type'] = 'display_data';\n",
              "          await google.colab.output.renderOutput(dataTable, element);\n",
              "          const docLink = document.createElement('div');\n",
              "          docLink.innerHTML = docLinkHtml;\n",
              "          element.appendChild(docLink);\n",
              "        }\n",
              "      </script>\n",
              "    </div>\n",
              "  </div>\n",
              "  "
            ],
            "text/plain": [
              "                                                      a  new\n",
              "0     [thyroid, surgeri, children, singl, institut, ...    2\n",
              "1     [adopt, strategi, use, prior, year, base, four...    2\n",
              "2     [coronari, arterybypass, graft, thrombosi, mut...    2\n",
              "3     [solitari, plasmacytoma, sp, skull, uncommon, ...    2\n",
              "4     [studi, aim, investig, serum, matrix, metallop...    2\n",
              "...                                                 ...  ...\n",
              "7565  [report, case, 24yearold, man, present, chief,...    0\n",
              "7566  [among, synchron, colorect, cancer, scrcs, rep...    0\n",
              "7567  [heterogen, cancer, cell, general, accept, ast...    0\n",
              "7568  [adipogenesi, process, mesenchymalstem, cell, ...    0\n",
              "7569  [periparturi, period, one, challeng, period, d...    0\n",
              "\n",
              "[7570 rows x 2 columns]"
            ]
          },
          "execution_count": 130,
          "metadata": {},
          "output_type": "execute_result"
        }
      ],
      "source": [
        "data"
      ]
    },
    {
      "cell_type": "code",
      "execution_count": null,
      "metadata": {
        "colab": {
          "base_uri": "https://localhost:8080/",
          "height": 423
        },
        "id": "D6a8sBLSJpe_",
        "outputId": "9150e274-d81f-42cc-bf26-43d882404b9b"
      },
      "outputs": [
        {
          "data": {
            "text/html": [
              "\n",
              "  <div id=\"df-9199c137-47d4-4026-9839-7cb8d291eb8b\">\n",
              "    <div class=\"colab-df-container\">\n",
              "      <div>\n",
              "<style scoped>\n",
              "    .dataframe tbody tr th:only-of-type {\n",
              "        vertical-align: middle;\n",
              "    }\n",
              "\n",
              "    .dataframe tbody tr th {\n",
              "        vertical-align: top;\n",
              "    }\n",
              "\n",
              "    .dataframe thead th {\n",
              "        text-align: right;\n",
              "    }\n",
              "</style>\n",
              "<table border=\"1\" class=\"dataframe\">\n",
              "  <thead>\n",
              "    <tr style=\"text-align: right;\">\n",
              "      <th></th>\n",
              "      <th>a</th>\n",
              "      <th>new</th>\n",
              "    </tr>\n",
              "  </thead>\n",
              "  <tbody>\n",
              "    <tr>\n",
              "      <th>0</th>\n",
              "      <td>[thyroid, surgeri, children, singl, institut, ...</td>\n",
              "      <td>2</td>\n",
              "    </tr>\n",
              "    <tr>\n",
              "      <th>1</th>\n",
              "      <td>[adopt, strategi, use, prior, year, base, four...</td>\n",
              "      <td>2</td>\n",
              "    </tr>\n",
              "    <tr>\n",
              "      <th>2</th>\n",
              "      <td>[coronari, arterybypass, graft, thrombosi, mut...</td>\n",
              "      <td>2</td>\n",
              "    </tr>\n",
              "    <tr>\n",
              "      <th>3</th>\n",
              "      <td>[solitari, plasmacytoma, sp, skull, uncommon, ...</td>\n",
              "      <td>2</td>\n",
              "    </tr>\n",
              "    <tr>\n",
              "      <th>4</th>\n",
              "      <td>[studi, aim, investig, serum, matrix, metallop...</td>\n",
              "      <td>2</td>\n",
              "    </tr>\n",
              "    <tr>\n",
              "      <th>...</th>\n",
              "      <td>...</td>\n",
              "      <td>...</td>\n",
              "    </tr>\n",
              "    <tr>\n",
              "      <th>7565</th>\n",
              "      <td>[report, case, 24yearold, man, present, chief,...</td>\n",
              "      <td>0</td>\n",
              "    </tr>\n",
              "    <tr>\n",
              "      <th>7566</th>\n",
              "      <td>[among, synchron, colorect, cancer, scrcs, rep...</td>\n",
              "      <td>0</td>\n",
              "    </tr>\n",
              "    <tr>\n",
              "      <th>7567</th>\n",
              "      <td>[heterogen, cancer, cell, general, accept, ast...</td>\n",
              "      <td>0</td>\n",
              "    </tr>\n",
              "    <tr>\n",
              "      <th>7568</th>\n",
              "      <td>[adipogenesi, process, mesenchymalstem, cell, ...</td>\n",
              "      <td>0</td>\n",
              "    </tr>\n",
              "    <tr>\n",
              "      <th>7569</th>\n",
              "      <td>[periparturi, period, one, challeng, period, d...</td>\n",
              "      <td>0</td>\n",
              "    </tr>\n",
              "  </tbody>\n",
              "</table>\n",
              "<p>7570 rows × 2 columns</p>\n",
              "</div>\n",
              "      <button class=\"colab-df-convert\" onclick=\"convertToInteractive('df-9199c137-47d4-4026-9839-7cb8d291eb8b')\"\n",
              "              title=\"Convert this dataframe to an interactive table.\"\n",
              "              style=\"display:none;\">\n",
              "        \n",
              "  <svg xmlns=\"http://www.w3.org/2000/svg\" height=\"24px\"viewBox=\"0 0 24 24\"\n",
              "       width=\"24px\">\n",
              "    <path d=\"M0 0h24v24H0V0z\" fill=\"none\"/>\n",
              "    <path d=\"M18.56 5.44l.94 2.06.94-2.06 2.06-.94-2.06-.94-.94-2.06-.94 2.06-2.06.94zm-11 1L8.5 8.5l.94-2.06 2.06-.94-2.06-.94L8.5 2.5l-.94 2.06-2.06.94zm10 10l.94 2.06.94-2.06 2.06-.94-2.06-.94-.94-2.06-.94 2.06-2.06.94z\"/><path d=\"M17.41 7.96l-1.37-1.37c-.4-.4-.92-.59-1.43-.59-.52 0-1.04.2-1.43.59L10.3 9.45l-7.72 7.72c-.78.78-.78 2.05 0 2.83L4 21.41c.39.39.9.59 1.41.59.51 0 1.02-.2 1.41-.59l7.78-7.78 2.81-2.81c.8-.78.8-2.07 0-2.86zM5.41 20L4 18.59l7.72-7.72 1.47 1.35L5.41 20z\"/>\n",
              "  </svg>\n",
              "      </button>\n",
              "      \n",
              "  <style>\n",
              "    .colab-df-container {\n",
              "      display:flex;\n",
              "      flex-wrap:wrap;\n",
              "      gap: 12px;\n",
              "    }\n",
              "\n",
              "    .colab-df-convert {\n",
              "      background-color: #E8F0FE;\n",
              "      border: none;\n",
              "      border-radius: 50%;\n",
              "      cursor: pointer;\n",
              "      display: none;\n",
              "      fill: #1967D2;\n",
              "      height: 32px;\n",
              "      padding: 0 0 0 0;\n",
              "      width: 32px;\n",
              "    }\n",
              "\n",
              "    .colab-df-convert:hover {\n",
              "      background-color: #E2EBFA;\n",
              "      box-shadow: 0px 1px 2px rgba(60, 64, 67, 0.3), 0px 1px 3px 1px rgba(60, 64, 67, 0.15);\n",
              "      fill: #174EA6;\n",
              "    }\n",
              "\n",
              "    [theme=dark] .colab-df-convert {\n",
              "      background-color: #3B4455;\n",
              "      fill: #D2E3FC;\n",
              "    }\n",
              "\n",
              "    [theme=dark] .colab-df-convert:hover {\n",
              "      background-color: #434B5C;\n",
              "      box-shadow: 0px 1px 3px 1px rgba(0, 0, 0, 0.15);\n",
              "      filter: drop-shadow(0px 1px 2px rgba(0, 0, 0, 0.3));\n",
              "      fill: #FFFFFF;\n",
              "    }\n",
              "  </style>\n",
              "\n",
              "      <script>\n",
              "        const buttonEl =\n",
              "          document.querySelector('#df-9199c137-47d4-4026-9839-7cb8d291eb8b button.colab-df-convert');\n",
              "        buttonEl.style.display =\n",
              "          google.colab.kernel.accessAllowed ? 'block' : 'none';\n",
              "\n",
              "        async function convertToInteractive(key) {\n",
              "          const element = document.querySelector('#df-9199c137-47d4-4026-9839-7cb8d291eb8b');\n",
              "          const dataTable =\n",
              "            await google.colab.kernel.invokeFunction('convertToInteractive',\n",
              "                                                     [key], {});\n",
              "          if (!dataTable) return;\n",
              "\n",
              "          const docLinkHtml = 'Like what you see? Visit the ' +\n",
              "            '<a target=\"_blank\" href=https://colab.research.google.com/notebooks/data_table.ipynb>data table notebook</a>'\n",
              "            + ' to learn more about interactive tables.';\n",
              "          element.innerHTML = '';\n",
              "          dataTable['output_type'] = 'display_data';\n",
              "          await google.colab.output.renderOutput(dataTable, element);\n",
              "          const docLink = document.createElement('div');\n",
              "          docLink.innerHTML = docLinkHtml;\n",
              "          element.appendChild(docLink);\n",
              "        }\n",
              "      </script>\n",
              "    </div>\n",
              "  </div>\n",
              "  "
            ],
            "text/plain": [
              "                                                      a  new\n",
              "0     [thyroid, surgeri, children, singl, institut, ...    2\n",
              "1     [adopt, strategi, use, prior, year, base, four...    2\n",
              "2     [coronari, arterybypass, graft, thrombosi, mut...    2\n",
              "3     [solitari, plasmacytoma, sp, skull, uncommon, ...    2\n",
              "4     [studi, aim, investig, serum, matrix, metallop...    2\n",
              "...                                                 ...  ...\n",
              "7565  [report, case, 24yearold, man, present, chief,...    0\n",
              "7566  [among, synchron, colorect, cancer, scrcs, rep...    0\n",
              "7567  [heterogen, cancer, cell, general, accept, ast...    0\n",
              "7568  [adipogenesi, process, mesenchymalstem, cell, ...    0\n",
              "7569  [periparturi, period, one, challeng, period, d...    0\n",
              "\n",
              "[7570 rows x 2 columns]"
            ]
          },
          "execution_count": 131,
          "metadata": {},
          "output_type": "execute_result"
        }
      ],
      "source": [
        "data"
      ]
    },
    {
      "cell_type": "code",
      "execution_count": null,
      "metadata": {
        "id": "dVB_BvL-Ju1D"
      },
      "outputs": [],
      "source": [
        "def l2s(x):\n",
        "  s = \"\"\n",
        "  for i in x:\n",
        "    s+= i + \" \"\n",
        "  return s  "
      ]
    },
    {
      "cell_type": "code",
      "execution_count": null,
      "metadata": {
        "id": "wuH9tVu2JyH-"
      },
      "outputs": [],
      "source": [
        "data['y']  = data['a'].apply(lambda x:l2s(x))"
      ]
    },
    {
      "cell_type": "code",
      "execution_count": null,
      "metadata": {
        "id": "L6rnuD9rJ0Oy"
      },
      "outputs": [],
      "source": [
        "res = eval(\"data['a'][0]\")"
      ]
    },
    {
      "cell_type": "code",
      "execution_count": null,
      "metadata": {
        "colab": {
          "base_uri": "https://localhost:8080/"
        },
        "id": "JNm2dkcZJ9Uz",
        "outputId": "0877ea09-f7f3-40e9-8b13-b55e0c72cdd3"
      },
      "outputs": [
        {
          "data": {
            "text/plain": [
              "['thyroid',\n",
              " 'surgeri',\n",
              " 'children',\n",
              " 'singl',\n",
              " 'institut',\n",
              " 'osama',\n",
              " 'ibrahim',\n",
              " 'almosallama',\n",
              " 'ali',\n",
              " 'aseerib',\n",
              " 'ahm',\n",
              " 'alhumaida',\n",
              " 'ali',\n",
              " 'alzahran',\n",
              " 'saif',\n",
              " 'alsobhib',\n",
              " 'saud',\n",
              " 'alshanafeybfrom',\n",
              " 'adepart',\n",
              " 'surgeri',\n",
              " 'colleg',\n",
              " 'medicin',\n",
              " 'qassim',\n",
              " 'univers',\n",
              " 'buraidah',\n",
              " 'al',\n",
              " 'qassim',\n",
              " 'saudi',\n",
              " 'arabia',\n",
              " 'bdepart',\n",
              " 'surgeri',\n",
              " 'king',\n",
              " 'faisal',\n",
              " 'specialist',\n",
              " 'hospit',\n",
              " 'research',\n",
              " 'center',\n",
              " 'riyadh',\n",
              " 'saudi',\n",
              " 'arabia',\n",
              " 'cdepart',\n",
              " 'medicin',\n",
              " 'king',\n",
              " 'faisal',\n",
              " 'specialist',\n",
              " 'hospit',\n",
              " 'research',\n",
              " 'center',\n",
              " 'riyadh',\n",
              " 'saudi',\n",
              " 'arabia',\n",
              " 'correspond',\n",
              " 'dr',\n",
              " 'osama',\n",
              " 'ibrahim',\n",
              " 'almosallam',\n",
              " 'depart',\n",
              " 'surgeri',\n",
              " 'colleg',\n",
              " 'medicin',\n",
              " 'qassim',\n",
              " 'univers',\n",
              " 'po',\n",
              " 'box',\n",
              " 'buraidah',\n",
              " 'al',\n",
              " 'qassim',\n",
              " 'saudi',\n",
              " 'arabia',\n",
              " 'orcid',\n",
              " 'orcid0000000290367564',\n",
              " 'citat',\n",
              " 'almosallam',\n",
              " 'oi',\n",
              " 'aseeri',\n",
              " 'alhumaid',\n",
              " 'alzahrani',\n",
              " 'alsobhi',\n",
              " 'alshanafey',\n",
              " 'thyroid',\n",
              " 'surgeri',\n",
              " 'children',\n",
              " 'singl',\n",
              " 'institut',\n",
              " 'ann',\n",
              " 'saudi',\n",
              " 'med',\n",
              " 'receiv',\n",
              " 'januari',\n",
              " 'accept',\n",
              " 'may',\n",
              " 'publish',\n",
              " 'august',\n",
              " 'copyright',\n",
              " 'copyright',\n",
              " 'annal',\n",
              " 'saudi',\n",
              " 'medicin',\n",
              " 'saudi',\n",
              " 'arabia',\n",
              " 'access',\n",
              " 'creativ',\n",
              " 'common',\n",
              " 'attributionnoncommercialnoderiv',\n",
              " 'intern',\n",
              " 'licens',\n",
              " 'cc',\n",
              " 'byncnd',\n",
              " 'detail',\n",
              " 'access',\n",
              " 'httpcreativecommon',\n",
              " 'licensesbyncnd40fund',\n",
              " 'nonebackground',\n",
              " 'data',\n",
              " 'thyroid',\n",
              " 'surgeri',\n",
              " 'children',\n",
              " 'scarceobject',\n",
              " 'analyz',\n",
              " 'outcom',\n",
              " 'data',\n",
              " 'thyroid',\n",
              " 'surgeri',\n",
              " 'pediatr',\n",
              " 'populationdesign',\n",
              " 'medic',\n",
              " 'record',\n",
              " 'reviewset',\n",
              " 'tertiari',\n",
              " 'health',\n",
              " 'care',\n",
              " 'institutionpati',\n",
              " 'method',\n",
              " 'collect',\n",
              " 'demograph',\n",
              " 'clinic',\n",
              " 'data',\n",
              " 'patient',\n",
              " 'year',\n",
              " 'younger',\n",
              " 'thyroid',\n",
              " 'surgeri',\n",
              " 'period',\n",
              " 'descript',\n",
              " 'data',\n",
              " 'presentedmain',\n",
              " 'outcom',\n",
              " 'measur',\n",
              " 'indic',\n",
              " 'thyroidectomi',\n",
              " 'thyroid',\n",
              " 'patholog',\n",
              " 'complic',\n",
              " 'length',\n",
              " 'stay',\n",
              " 'radioact',\n",
              " 'iodin',\n",
              " 'treatment',\n",
              " 'recurrencessampl',\n",
              " 'size',\n",
              " 'result',\n",
              " 'patient',\n",
              " 'underw',\n",
              " 'thyroidectomi',\n",
              " 'procedur',\n",
              " 'femal',\n",
              " 'mean',\n",
              " 'age',\n",
              " 'oper',\n",
              " 'year',\n",
              " 'associ',\n",
              " 'multipl',\n",
              " 'endocrin',\n",
              " 'neoplasia',\n",
              " 'type',\n",
              " 'histori',\n",
              " 'radiat',\n",
              " 'exposur',\n",
              " 'eightyon',\n",
              " 'patient',\n",
              " 'fine',\n",
              " 'needl',\n",
              " 'aspir',\n",
              " 'fna',\n",
              " 'correl',\n",
              " 'final',\n",
              " 'histopatholog',\n",
              " 'case',\n",
              " 'sixtysix',\n",
              " 'patient',\n",
              " 'malign',\n",
              " 'cancer',\n",
              " 'papillari',\n",
              " 'patient',\n",
              " 'neck',\n",
              " 'dissect',\n",
              " 'lymph',\n",
              " 'node',\n",
              " 'metastasi',\n",
              " 'distant',\n",
              " 'metastas',\n",
              " 'lung',\n",
              " 'procedur',\n",
              " 'includ',\n",
              " 'total',\n",
              " 'thyroidectomi',\n",
              " 'hemithyroidectomi',\n",
              " 'complet',\n",
              " 'subtot',\n",
              " 'thyroidectomi',\n",
              " 'twentythre',\n",
              " 'patient',\n",
              " 'develop',\n",
              " 'hypocalcemia',\n",
              " 'perman',\n",
              " 'unilater',\n",
              " 'recurr',\n",
              " 'laryng',\n",
              " 'nerv',\n",
              " 'injuri',\n",
              " 'perman',\n",
              " 'patient',\n",
              " 'follow',\n",
              " 'mean',\n",
              " 'durat',\n",
              " 'month',\n",
              " 'median',\n",
              " 'month',\n",
              " 'patient',\n",
              " 'thyroid',\n",
              " 'cancer',\n",
              " 'receiv',\n",
              " 'radioact',\n",
              " 'iodin',\n",
              " 'recurr',\n",
              " 'malign',\n",
              " 'commonest',\n",
              " 'indic',\n",
              " 'thyroid',\n",
              " 'surgeri',\n",
              " 'children',\n",
              " 'fna',\n",
              " 'high',\n",
              " 'diagnost',\n",
              " 'hypocalcemia',\n",
              " 'recurr',\n",
              " 'laryng',\n",
              " 'nerv',\n",
              " 'injuri',\n",
              " 'signific',\n",
              " 'complic',\n",
              " 'recurr',\n",
              " 'rate',\n",
              " 'thyroid',\n",
              " 'cancer',\n",
              " 'limit',\n",
              " 'retrospectiveconflict',\n",
              " 'interest',\n",
              " 'noneorigin',\n",
              " 'ann',\n",
              " 'saudi',\n",
              " 'med',\n",
              " 'julyaugust',\n",
              " 'wwwannsaudimednet',\n",
              " '0cthyroid',\n",
              " 'diseas',\n",
              " 'requir',\n",
              " 'surgeri',\n",
              " 'relat',\n",
              " 'uncommon',\n",
              " 'children',\n",
              " 'compar',\n",
              " 'adult',\n",
              " 'preval',\n",
              " 'palpabl',\n",
              " 'thyroid',\n",
              " 'nodul',\n",
              " 'children',\n",
              " 'rang',\n",
              " 'sporad',\n",
              " 'welldifferenti',\n",
              " 'thyroid',\n",
              " 'cancer',\n",
              " 'common',\n",
              " 'endocrin',\n",
              " 'malign',\n",
              " 'children',\n",
              " 'account',\n",
              " 'pediatr',\n",
              " 'cancer',\n",
              " 'prepubert',\n",
              " 'age',\n",
              " 'group',\n",
              " 'cancer',\n",
              " 'adolesc',\n",
              " 'age',\n",
              " 'year2',\n",
              " 'common',\n",
              " 'indic',\n",
              " 'thyroid',\n",
              " 'surgeri',\n",
              " 'children',\n",
              " 'vari',\n",
              " 'among',\n",
              " 'publish',\n",
              " 'studi',\n",
              " 'thyroidectomi',\n",
              " 'malign',\n",
              " 'condit',\n",
              " 'rising38',\n",
              " 'data',\n",
              " 'children',\n",
              " 'throughout',\n",
              " 'world',\n",
              " 'relat',\n",
              " 'scarc',\n",
              " 'object',\n",
              " 'studi',\n",
              " 'analyz',\n",
              " 'clinic',\n",
              " 'data',\n",
              " 'outcom',\n",
              " 'thyroid',\n",
              " 'surgeri',\n",
              " 'larg',\n",
              " 'seri',\n",
              " 'children',\n",
              " 'treat',\n",
              " 'singl',\n",
              " 'center',\n",
              " 'king',\n",
              " 'faisal',\n",
              " 'specialist',\n",
              " 'hospit',\n",
              " 'research',\n",
              " 'center',\n",
              " 'kfshrc',\n",
              " 'riyadhpati',\n",
              " 'method',\n",
              " 'approv',\n",
              " 'institut',\n",
              " 'review',\n",
              " 'board',\n",
              " 'irb',\n",
              " 'kfshrc',\n",
              " 'medic',\n",
              " 'record',\n",
              " 'patient',\n",
              " 'year',\n",
              " 'old',\n",
              " 'younger',\n",
              " 'underw',\n",
              " 'thyroid',\n",
              " 'surgeri',\n",
              " 'retrospect',\n",
              " 'review',\n",
              " 'elect',\n",
              " 'includ',\n",
              " 'patient',\n",
              " 'year',\n",
              " 'ensur',\n",
              " 'reason',\n",
              " 'followup',\n",
              " 'period',\n",
              " 'patient',\n",
              " 'studi',\n",
              " 'identifi',\n",
              " 'search',\n",
              " 'oper',\n",
              " 'room',\n",
              " 'log',\n",
              " 'procedur',\n",
              " 'involv',\n",
              " 'thyroid',\n",
              " 'gland',\n",
              " 'specifi',\n",
              " 'age',\n",
              " 'groupdemograph',\n",
              " 'data',\n",
              " 'clinic',\n",
              " 'featur',\n",
              " 'surgic',\n",
              " 'outcom',\n",
              " 'collect',\n",
              " 'specif',\n",
              " 'data',\n",
              " 'obtain',\n",
              " 'includ',\n",
              " 'age',\n",
              " 'oper',\n",
              " 'gender',\n",
              " 'famili',\n",
              " 'histori',\n",
              " 'present',\n",
              " 'symptom',\n",
              " 'histori',\n",
              " 'radiat',\n",
              " 'exposur',\n",
              " 'presenc',\n",
              " 'multipl',\n",
              " 'endocrin',\n",
              " 'neoplasia',\n",
              " 'type',\n",
              " 'men',\n",
              " 'thyroid',\n",
              " 'function',\n",
              " 'test',\n",
              " 'presenc',\n",
              " 'size',\n",
              " 'thyroid',\n",
              " 'nodul',\n",
              " 'ultrasound',\n",
              " 'presenc',\n",
              " 'lymph',\n",
              " 'node',\n",
              " 'metastasi',\n",
              " 'distant',\n",
              " 'metastasi',\n",
              " 'fine',\n",
              " 'needl',\n",
              " 'aspir',\n",
              " 'fna',\n",
              " 'cytolog',\n",
              " 'surgic',\n",
              " 'procedur',\n",
              " 'final',\n",
              " 'histopatholog',\n",
              " 'length',\n",
              " 'followup',\n",
              " 'outcom',\n",
              " 'analyz',\n",
              " 'postop',\n",
              " 'complic',\n",
              " 'includ',\n",
              " 'transient',\n",
              " 'perman',\n",
              " 'hypocalcemia',\n",
              " 'transient',\n",
              " 'perman',\n",
              " 'recurr',\n",
              " 'laryng',\n",
              " 'nerv',\n",
              " 'paralysi',\n",
              " 'wound',\n",
              " 'infect',\n",
              " 'hematoma',\n",
              " 'length',\n",
              " 'stay',\n",
              " 'radioact',\n",
              " 'iodin',\n",
              " 'treatment',\n",
              " 'recurr',\n",
              " 'thyroid',\n",
              " 'procedur',\n",
              " 'seri',\n",
              " 'includ',\n",
              " 'hemithyroidectomi',\n",
              " 'subtot',\n",
              " 'total',\n",
              " 'complet',\n",
              " 'thyroidectomi',\n",
              " 'surgeri',\n",
              " 'perform',\n",
              " 'either',\n",
              " 'endocrin',\n",
              " 'adult',\n",
              " 'surgeon',\n",
              " 'pediatr',\n",
              " 'surgeon',\n",
              " 'intraop',\n",
              " 'nerv',\n",
              " 'monitor',\n",
              " 'use',\n",
              " 'earli',\n",
              " 'seri',\n",
              " 'procedur',\n",
              " 'perform',\n",
              " 'adult',\n",
              " 'endocrin',\n",
              " 'surgeon',\n",
              " 'late',\n",
              " 'combin',\n",
              " 'approach',\n",
              " 'adopt',\n",
              " 'pediatr',\n",
              " 'surgeon',\n",
              " 'adult',\n",
              " 'endocrin',\n",
              " 'surgeon',\n",
              " 'collabor',\n",
              " 'case',\n",
              " 'proceduresth',\n",
              " 'normal',\n",
              " 'rang',\n",
              " 'laboratori',\n",
              " 'regardless',\n",
              " 'symptom',\n",
              " 'transient',\n",
              " 'hypocalcemia',\n",
              " 'identifi',\n",
              " 'last',\n",
              " 'less',\n",
              " 'month',\n",
              " 'perman',\n",
              " 'hypocalcemia',\n",
              " 'consid',\n",
              " 'serum',\n",
              " 'calcium',\n",
              " 'level',\n",
              " 'remain',\n",
              " 'normal',\n",
              " 'rang',\n",
              " 'patient',\n",
              " 'continu',\n",
              " 'calcium',\n",
              " 'supplement',\n",
              " 'month',\n",
              " 'surgeri',\n",
              " 'patient',\n",
              " 'famili',\n",
              " 'histori',\n",
              " 'men',\n",
              " 'underw',\n",
              " 'genet',\n",
              " 'test',\n",
              " 'ret',\n",
              " 'protooncogen',\n",
              " 'confirm',\n",
              " 'diagnosi',\n",
              " 'patient',\n",
              " 'underw',\n",
              " 'complet',\n",
              " 'thyroidectomi',\n",
              " 'preoper',\n",
              " 'postop',\n",
              " 'vocal',\n",
              " 'cord',\n",
              " 'assess',\n",
              " 'otolaryngolog',\n",
              " 'clinic',\n",
              " 'descript',\n",
              " 'data',\n",
              " 'generat',\n",
              " 'comparison',\n",
              " 'conduct',\n",
              " 'use',\n",
              " 'test',\n",
              " 'continu',\n",
              " 'data',\n",
              " 'chisquar',\n",
              " 'fisher',\n",
              " 'exact',\n",
              " 'test',\n",
              " 'proportionsresultsbetween',\n",
              " 'patient',\n",
              " 'underw',\n",
              " 'surgic',\n",
              " 'procedur',\n",
              " 'patient',\n",
              " 'underw',\n",
              " 'two',\n",
              " 'procedur',\n",
              " 'thyroid',\n",
              " 'diseas',\n",
              " 'institut',\n",
              " 'eighti',\n",
              " 'patient',\n",
              " 'femal',\n",
              " 'mean',\n",
              " 'age',\n",
              " 'oper',\n",
              " 'year',\n",
              " 'median',\n",
              " 'year',\n",
              " 'rang',\n",
              " 'year',\n",
              " 'common',\n",
              " 'indic',\n",
              " 'thyroidectomi',\n",
              " 'thyroid',\n",
              " 'nodul',\n",
              " 'present',\n",
              " 'case',\n",
              " 'tabl',\n",
              " 'mean',\n",
              " 'sd',\n",
              " 'size',\n",
              " 'thyroid',\n",
              " 'nodul',\n",
              " 'mm',\n",
              " 'case',\n",
              " 'associ',\n",
              " 'men',\n",
              " 'syndrom',\n",
              " 'final',\n",
              " 'patholog',\n",
              " 'two',\n",
              " 'patient',\n",
              " 'men',\n",
              " 'syndrom',\n",
              " 'show',\n",
              " 'medullari',\n",
              " 'thyroid',\n",
              " 'cancer',\n",
              " 'mtc',\n",
              " 'remain',\n",
              " 'patient',\n",
              " 'prophylact',\n",
              " 'procedur',\n",
              " 'develop',\n",
              " 'mtc',\n",
              " 'none',\n",
              " 'patient',\n",
              " 'histori',\n",
              " 'radiat',\n",
              " 'exposur',\n",
              " 'eightyon',\n",
              " 'patient',\n",
              " 'fna',\n",
              " 'correl',\n",
              " 'final',\n",
              " 'histopatholog',\n",
              " 'case',\n",
              " 'three',\n",
              " 'case',\n",
              " 'toxic',\n",
              " 'adenoma',\n",
              " 'one',\n",
              " 'case',\n",
              " 'diseas',\n",
              " 'requir',\n",
              " 'fna',\n",
              " 'remain',\n",
              " 'case',\n",
              " 'underw',\n",
              " 'fna',\n",
              " 'anoth',\n",
              " 'institut',\n",
              " 'fna',\n",
              " 'repeat',\n",
              " 'institut',\n",
              " 'came',\n",
              " 'complet',\n",
              " 'thyroidectomi',\n",
              " 'document',\n",
              " 'patholog',\n",
              " 'malign',\n",
              " 'first',\n",
              " 'surgeri',\n",
              " 'anoth',\n",
              " 'hospitalth',\n",
              " 'common',\n",
              " 'diagnos',\n",
              " 'includ',\n",
              " 'papillari',\n",
              " 'thyroid',\n",
              " 'cancer',\n",
              " 'multinodular',\n",
              " 'goiter',\n",
              " 'colloid',\n",
              " 'tabl',\n",
              " 'indic',\n",
              " 'thyroidectomi',\n",
              " 'patient',\n",
              " 'indicationnodulen',\n",
              " 'men',\n",
              " 'prophylaxishyperthyroidismmultinodular',\n",
              " 'goitercomplet',\n",
              " 'thyroidectomi',\n",
              " 'hypocalcemia',\n",
              " 'defin',\n",
              " 'calcium',\n",
              " 'level',\n",
              " 'data',\n",
              " 'number',\n",
              " 'origin',\n",
              " 'pediatr',\n",
              " 'thyroid',\n",
              " 'surgeryann',\n",
              " 'saudi',\n",
              " 'med',\n",
              " 'julyaugust',\n",
              " 'wwwannsaudimednet',\n",
              " '0cnodul',\n",
              " 'tabl',\n",
              " 'surgic',\n",
              " 'procedur',\n",
              " 'includ',\n",
              " 'total',\n",
              " 'thyroidectomi',\n",
              " 'hemithyroidectomi',\n",
              " 'complet',\n",
              " 'thyroidectomi',\n",
              " 'subtot',\n",
              " 'thyroidectomi',\n",
              " 'neck',\n",
              " 'dissect',\n",
              " 'perform',\n",
              " 'patient',\n",
              " 'oper',\n",
              " 'complic',\n",
              " 'observ',\n",
              " 'patient',\n",
              " 'common',\n",
              " 'complic',\n",
              " 'hypocalcemia',\n",
              " 'transient',\n",
              " 'perman',\n",
              " 'tabl',\n",
              " 'thyroid',\n",
              " 'patholog',\n",
              " 'patientspathologyn',\n",
              " 'benignnorm',\n",
              " 'thyroid',\n",
              " 'tissuecolloid',\n",
              " 'diseasethyroid',\n",
              " 'cancerpapillaryfollicularmedullaryhurthleanaplastictotaldata',\n",
              " 'number',\n",
              " 'tabl',\n",
              " 'benign',\n",
              " 'malign',\n",
              " 'lesion',\n",
              " 'patientsbenignn37malignantn66',\n",
              " 'p',\n",
              " 'valu',\n",
              " 'age',\n",
              " 'meanyearsgend',\n",
              " 'malefemalepres',\n",
              " 'nodulehypocalcemiarecurr',\n",
              " 'laryng',\n",
              " 'nerv',\n",
              " 'palsybleedinghematomawound',\n",
              " 'infectiontrach',\n",
              " 'injuryoveral',\n",
              " 'complicationsmean',\n",
              " 'length',\n",
              " 'stay',\n",
              " 'daysmen',\n",
              " 'recurr',\n",
              " 'laryng',\n",
              " 'nerv',\n",
              " 'palsi',\n",
              " 'transient',\n",
              " 'perman',\n",
              " 'unilater',\n",
              " 'tabl',\n",
              " 'patient',\n",
              " 'malign',\n",
              " 'lesion',\n",
              " 'lymph',\n",
              " 'node',\n",
              " 'metastasi',\n",
              " 'patient',\n",
              " 'distant',\n",
              " 'metastas',\n",
              " 'lung',\n",
              " 'none',\n",
              " 'patient',\n",
              " 'develop',\n",
              " 'postop',\n",
              " 'bleed',\n",
              " 'wound',\n",
              " 'infect',\n",
              " 'tracheal',\n",
              " 'injuri',\n",
              " 'patient',\n",
              " 'follow',\n",
              " 'mean',\n",
              " 'month',\n",
              " 'median',\n",
              " 'rang',\n",
              " 'month',\n",
              " 'radioact',\n",
              " 'iodin',\n",
              " 'treatment',\n",
              " 'deliv',\n",
              " 'patient',\n",
              " 'malign',\n",
              " 'lesion',\n",
              " 'patient',\n",
              " 'recurr',\n",
              " 'local',\n",
              " 'recurr',\n",
              " 'local',\n",
              " 'distant',\n",
              " 'recurr',\n",
              " 'lung',\n",
              " 'three',\n",
              " 'case',\n",
              " 'receiv',\n",
              " 'radioact',\n",
              " 'iodin',\n",
              " 'rai',\n",
              " 'recurr',\n",
              " 'one',\n",
              " 'case',\n",
              " 'low',\n",
              " 'risk',\n",
              " 'recurr',\n",
              " 'receiv',\n",
              " 'rai',\n",
              " 'recurr',\n",
              " 'one',\n",
              " 'case',\n",
              " 'medullari',\n",
              " 'thyroid',\n",
              " 'cancer',\n",
              " 'receiv',\n",
              " 'rai',\n",
              " 'remain',\n",
              " 'five',\n",
              " 'case',\n",
              " 'clear',\n",
              " 'data',\n",
              " 'whether',\n",
              " 'patient',\n",
              " 'receiv',\n",
              " 'rai',\n",
              " 'recurr',\n",
              " 'local',\n",
              " 'recurr',\n",
              " 'underw',\n",
              " 'resect',\n",
              " 'except',\n",
              " 'one',\n",
              " 'patient',\n",
              " 'lost',\n",
              " 'follow',\n",
              " 'mortal',\n",
              " 'studi',\n",
              " 'discussionth',\n",
              " 'common',\n",
              " 'indic',\n",
              " 'thyroidectomi',\n",
              " 'seri',\n",
              " 'thyroid',\n",
              " 'nodul',\n",
              " 'correl',\n",
              " 'previous',\n",
              " 'publish',\n",
              " 'report',\n",
              " 'pediatr',\n",
              " 'population35',\n",
              " 'children',\n",
              " 'thyroid',\n",
              " 'nodul',\n",
              " 'estim',\n",
              " 'fourfold',\n",
              " 'higher',\n",
              " 'risk',\n",
              " 'develop',\n",
              " 'thyroid',\n",
              " 'cancer',\n",
              " 'compar',\n",
              " 'adults910',\n",
              " 'high',\n",
              " 'incid',\n",
              " 'malign',\n",
              " 'seri',\n",
              " 'suggest',\n",
              " 'children',\n",
              " 'thyroid',\n",
              " 'nodul',\n",
              " 'care',\n",
              " 'evaluatedfna',\n",
              " 'valuablemethod',\n",
              " 'preoper',\n",
              " 'evalu',\n",
              " 'thyroid',\n",
              " 'nodul',\n",
              " 'howev',\n",
              " 'limit',\n",
              " 'routin',\n",
              " 'use',\n",
              " 'fna',\n",
              " 'children',\n",
              " 'includ',\n",
              " 'need',\n",
              " 'sedat',\n",
              " 'sampl',\n",
              " 'error',\n",
              " 'limit',\n",
              " 'avail',\n",
              " 'experienc',\n",
              " 'cytopathologists11',\n",
              " 'mani',\n",
              " 'previous',\n",
              " 'studi',\n",
              " 'report',\n",
              " 'high',\n",
              " 'sensit',\n",
              " 'specif',\n",
              " 'fna',\n",
              " 'evalu',\n",
              " 'thyroid',\n",
              " 'nodul',\n",
              " 'children1114',\n",
              " 'correl',\n",
              " 'findingsour',\n",
              " 'data',\n",
              " 'show',\n",
              " 'lymph',\n",
              " 'node',\n",
              " 'metastasi',\n",
              " 'thyroid',\n",
              " 'cancer',\n",
              " 'case',\n",
              " 'support',\n",
              " 'notion',\n",
              " 'children',\n",
              " 'thyroid',\n",
              " 'cancer',\n",
              " 'frequent',\n",
              " 'present',\n",
              " 'extens',\n",
              " 'diseas',\n",
              " 'adult',\n",
              " 'lymphnod',\n",
              " 'involv',\n",
              " 'diagnosi',\n",
              " 'seen',\n",
              " 'children',\n",
              " 'compar',\n",
              " 'adult',\n",
              " 'differenti',\n",
              " 'thyroid',\n",
              " 'cancer1523',\n",
              " 'hospit',\n",
              " 'largest',\n",
              " 'referr',\n",
              " 'center',\n",
              " 'saudi',\n",
              " 'arabia',\n",
              " 'especi',\n",
              " 'oncolog',\n",
              " 'case',\n",
              " 'may',\n",
              " 'explain',\n",
              " 'larg',\n",
              " 'number',\n",
              " 'lymph',\n",
              " 'node',\n",
              " 'distant',\n",
              " 'metastasi',\n",
              " 'cohortth',\n",
              " 'common',\n",
              " 'complic',\n",
              " 'report',\n",
              " 'thyroidectomi',\n",
              " 'children',\n",
              " 'hypoparathyroid',\n",
              " 'incid',\n",
              " 'rang',\n",
              " 'origin',\n",
              " 'pediatr',\n",
              " 'thyroid',\n",
              " 'surgeryann',\n",
              " 'saudi',\n",
              " 'med',\n",
              " 'julyaugust',\n",
              " 'wwwannsaudimednet',\n",
              " '0ccorrespond',\n",
              " 'result',\n",
              " 'report',\n",
              " 'hypocalcemia',\n",
              " 'tabl',\n",
              " 'one',\n",
              " 'studi',\n",
              " 'found',\n",
              " 'total',\n",
              " 'thyroidectomi',\n",
              " 'central',\n",
              " 'bilater',\n",
              " 'neck',\n",
              " 'dissect',\n",
              " 'diseas',\n",
              " 'malign',\n",
              " 'risk',\n",
              " 'factor',\n",
              " 'hypocalcemia',\n",
              " 'thyroid',\n",
              " 'surgery3',\n",
              " 'cohort',\n",
              " 'postop',\n",
              " 'hypocalcemia',\n",
              " 'note',\n",
              " 'malign',\n",
              " 'case',\n",
              " 'fail',\n",
              " 'reach',\n",
              " 'statist',\n",
              " 'signific',\n",
              " 'moreov',\n",
              " 'signific',\n",
              " 'differ',\n",
              " 'benign',\n",
              " 'malign',\n",
              " 'case',\n",
              " 'term',\n",
              " 'mean',\n",
              " ...]"
            ]
          },
          "execution_count": 135,
          "metadata": {},
          "output_type": "execute_result"
        }
      ],
      "source": [
        "res"
      ]
    },
    {
      "cell_type": "code",
      "execution_count": null,
      "metadata": {
        "colab": {
          "base_uri": "https://localhost:8080/"
        },
        "id": "kmHC_03RLjZ0",
        "outputId": "b789b896-9203-4239-f69c-be4a721d6cb0"
      },
      "outputs": [
        {
          "data": {
            "text/plain": [
              "list"
            ]
          },
          "execution_count": 136,
          "metadata": {},
          "output_type": "execute_result"
        }
      ],
      "source": [
        "type(res)"
      ]
    },
    {
      "cell_type": "code",
      "execution_count": null,
      "metadata": {
        "colab": {
          "base_uri": "https://localhost:8080/",
          "height": 423
        },
        "id": "-xwLtWaWLq0O",
        "outputId": "d2b8b288-2f42-4fc0-de7a-ee5c0d5bde8c"
      },
      "outputs": [
        {
          "data": {
            "text/html": [
              "\n",
              "  <div id=\"df-6537fdb2-f025-4008-a155-3c81f15b1c89\">\n",
              "    <div class=\"colab-df-container\">\n",
              "      <div>\n",
              "<style scoped>\n",
              "    .dataframe tbody tr th:only-of-type {\n",
              "        vertical-align: middle;\n",
              "    }\n",
              "\n",
              "    .dataframe tbody tr th {\n",
              "        vertical-align: top;\n",
              "    }\n",
              "\n",
              "    .dataframe thead th {\n",
              "        text-align: right;\n",
              "    }\n",
              "</style>\n",
              "<table border=\"1\" class=\"dataframe\">\n",
              "  <thead>\n",
              "    <tr style=\"text-align: right;\">\n",
              "      <th></th>\n",
              "      <th>a</th>\n",
              "      <th>new</th>\n",
              "      <th>y</th>\n",
              "    </tr>\n",
              "  </thead>\n",
              "  <tbody>\n",
              "    <tr>\n",
              "      <th>0</th>\n",
              "      <td>[thyroid, surgeri, children, singl, institut, ...</td>\n",
              "      <td>2</td>\n",
              "      <td>thyroid surgeri children singl institut osama ...</td>\n",
              "    </tr>\n",
              "    <tr>\n",
              "      <th>1</th>\n",
              "      <td>[adopt, strategi, use, prior, year, base, four...</td>\n",
              "      <td>2</td>\n",
              "      <td>adopt strategi use prior year base four exclus...</td>\n",
              "    </tr>\n",
              "    <tr>\n",
              "      <th>2</th>\n",
              "      <td>[coronari, arterybypass, graft, thrombosi, mut...</td>\n",
              "      <td>2</td>\n",
              "      <td>coronari arterybypass graft thrombosi mutation...</td>\n",
              "    </tr>\n",
              "    <tr>\n",
              "      <th>3</th>\n",
              "      <td>[solitari, plasmacytoma, sp, skull, uncommon, ...</td>\n",
              "      <td>2</td>\n",
              "      <td>solitari plasmacytoma sp skull uncommon clinic...</td>\n",
              "    </tr>\n",
              "    <tr>\n",
              "      <th>4</th>\n",
              "      <td>[studi, aim, investig, serum, matrix, metallop...</td>\n",
              "      <td>2</td>\n",
              "      <td>studi aim investig serum matrix metalloprotein...</td>\n",
              "    </tr>\n",
              "    <tr>\n",
              "      <th>...</th>\n",
              "      <td>...</td>\n",
              "      <td>...</td>\n",
              "      <td>...</td>\n",
              "    </tr>\n",
              "    <tr>\n",
              "      <th>7565</th>\n",
              "      <td>[report, case, 24yearold, man, present, chief,...</td>\n",
              "      <td>0</td>\n",
              "      <td>report case 24yearold man present chief compla...</td>\n",
              "    </tr>\n",
              "    <tr>\n",
              "      <th>7566</th>\n",
              "      <td>[among, synchron, colorect, cancer, scrcs, rep...</td>\n",
              "      <td>0</td>\n",
              "      <td>among synchron colorect cancer scrcs report pr...</td>\n",
              "    </tr>\n",
              "    <tr>\n",
              "      <th>7567</th>\n",
              "      <td>[heterogen, cancer, cell, general, accept, ast...</td>\n",
              "      <td>0</td>\n",
              "      <td>heterogen cancer cell general accept astem cel...</td>\n",
              "    </tr>\n",
              "    <tr>\n",
              "      <th>7568</th>\n",
              "      <td>[adipogenesi, process, mesenchymalstem, cell, ...</td>\n",
              "      <td>0</td>\n",
              "      <td>adipogenesi process mesenchymalstem cell mscs ...</td>\n",
              "    </tr>\n",
              "    <tr>\n",
              "      <th>7569</th>\n",
              "      <td>[periparturi, period, one, challeng, period, d...</td>\n",
              "      <td>0</td>\n",
              "      <td>periparturi period one challeng period dairi c...</td>\n",
              "    </tr>\n",
              "  </tbody>\n",
              "</table>\n",
              "<p>7570 rows × 3 columns</p>\n",
              "</div>\n",
              "      <button class=\"colab-df-convert\" onclick=\"convertToInteractive('df-6537fdb2-f025-4008-a155-3c81f15b1c89')\"\n",
              "              title=\"Convert this dataframe to an interactive table.\"\n",
              "              style=\"display:none;\">\n",
              "        \n",
              "  <svg xmlns=\"http://www.w3.org/2000/svg\" height=\"24px\"viewBox=\"0 0 24 24\"\n",
              "       width=\"24px\">\n",
              "    <path d=\"M0 0h24v24H0V0z\" fill=\"none\"/>\n",
              "    <path d=\"M18.56 5.44l.94 2.06.94-2.06 2.06-.94-2.06-.94-.94-2.06-.94 2.06-2.06.94zm-11 1L8.5 8.5l.94-2.06 2.06-.94-2.06-.94L8.5 2.5l-.94 2.06-2.06.94zm10 10l.94 2.06.94-2.06 2.06-.94-2.06-.94-.94-2.06-.94 2.06-2.06.94z\"/><path d=\"M17.41 7.96l-1.37-1.37c-.4-.4-.92-.59-1.43-.59-.52 0-1.04.2-1.43.59L10.3 9.45l-7.72 7.72c-.78.78-.78 2.05 0 2.83L4 21.41c.39.39.9.59 1.41.59.51 0 1.02-.2 1.41-.59l7.78-7.78 2.81-2.81c.8-.78.8-2.07 0-2.86zM5.41 20L4 18.59l7.72-7.72 1.47 1.35L5.41 20z\"/>\n",
              "  </svg>\n",
              "      </button>\n",
              "      \n",
              "  <style>\n",
              "    .colab-df-container {\n",
              "      display:flex;\n",
              "      flex-wrap:wrap;\n",
              "      gap: 12px;\n",
              "    }\n",
              "\n",
              "    .colab-df-convert {\n",
              "      background-color: #E8F0FE;\n",
              "      border: none;\n",
              "      border-radius: 50%;\n",
              "      cursor: pointer;\n",
              "      display: none;\n",
              "      fill: #1967D2;\n",
              "      height: 32px;\n",
              "      padding: 0 0 0 0;\n",
              "      width: 32px;\n",
              "    }\n",
              "\n",
              "    .colab-df-convert:hover {\n",
              "      background-color: #E2EBFA;\n",
              "      box-shadow: 0px 1px 2px rgba(60, 64, 67, 0.3), 0px 1px 3px 1px rgba(60, 64, 67, 0.15);\n",
              "      fill: #174EA6;\n",
              "    }\n",
              "\n",
              "    [theme=dark] .colab-df-convert {\n",
              "      background-color: #3B4455;\n",
              "      fill: #D2E3FC;\n",
              "    }\n",
              "\n",
              "    [theme=dark] .colab-df-convert:hover {\n",
              "      background-color: #434B5C;\n",
              "      box-shadow: 0px 1px 3px 1px rgba(0, 0, 0, 0.15);\n",
              "      filter: drop-shadow(0px 1px 2px rgba(0, 0, 0, 0.3));\n",
              "      fill: #FFFFFF;\n",
              "    }\n",
              "  </style>\n",
              "\n",
              "      <script>\n",
              "        const buttonEl =\n",
              "          document.querySelector('#df-6537fdb2-f025-4008-a155-3c81f15b1c89 button.colab-df-convert');\n",
              "        buttonEl.style.display =\n",
              "          google.colab.kernel.accessAllowed ? 'block' : 'none';\n",
              "\n",
              "        async function convertToInteractive(key) {\n",
              "          const element = document.querySelector('#df-6537fdb2-f025-4008-a155-3c81f15b1c89');\n",
              "          const dataTable =\n",
              "            await google.colab.kernel.invokeFunction('convertToInteractive',\n",
              "                                                     [key], {});\n",
              "          if (!dataTable) return;\n",
              "\n",
              "          const docLinkHtml = 'Like what you see? Visit the ' +\n",
              "            '<a target=\"_blank\" href=https://colab.research.google.com/notebooks/data_table.ipynb>data table notebook</a>'\n",
              "            + ' to learn more about interactive tables.';\n",
              "          element.innerHTML = '';\n",
              "          dataTable['output_type'] = 'display_data';\n",
              "          await google.colab.output.renderOutput(dataTable, element);\n",
              "          const docLink = document.createElement('div');\n",
              "          docLink.innerHTML = docLinkHtml;\n",
              "          element.appendChild(docLink);\n",
              "        }\n",
              "      </script>\n",
              "    </div>\n",
              "  </div>\n",
              "  "
            ],
            "text/plain": [
              "                                                      a  new  \\\n",
              "0     [thyroid, surgeri, children, singl, institut, ...    2   \n",
              "1     [adopt, strategi, use, prior, year, base, four...    2   \n",
              "2     [coronari, arterybypass, graft, thrombosi, mut...    2   \n",
              "3     [solitari, plasmacytoma, sp, skull, uncommon, ...    2   \n",
              "4     [studi, aim, investig, serum, matrix, metallop...    2   \n",
              "...                                                 ...  ...   \n",
              "7565  [report, case, 24yearold, man, present, chief,...    0   \n",
              "7566  [among, synchron, colorect, cancer, scrcs, rep...    0   \n",
              "7567  [heterogen, cancer, cell, general, accept, ast...    0   \n",
              "7568  [adipogenesi, process, mesenchymalstem, cell, ...    0   \n",
              "7569  [periparturi, period, one, challeng, period, d...    0   \n",
              "\n",
              "                                                      y  \n",
              "0     thyroid surgeri children singl institut osama ...  \n",
              "1     adopt strategi use prior year base four exclus...  \n",
              "2     coronari arterybypass graft thrombosi mutation...  \n",
              "3     solitari plasmacytoma sp skull uncommon clinic...  \n",
              "4     studi aim investig serum matrix metalloprotein...  \n",
              "...                                                 ...  \n",
              "7565  report case 24yearold man present chief compla...  \n",
              "7566  among synchron colorect cancer scrcs report pr...  \n",
              "7567  heterogen cancer cell general accept astem cel...  \n",
              "7568  adipogenesi process mesenchymalstem cell mscs ...  \n",
              "7569  periparturi period one challeng period dairi c...  \n",
              "\n",
              "[7570 rows x 3 columns]"
            ]
          },
          "execution_count": 137,
          "metadata": {},
          "output_type": "execute_result"
        }
      ],
      "source": [
        "data"
      ]
    },
    {
      "cell_type": "code",
      "execution_count": null,
      "metadata": {
        "id": "2zs1VKtiLtCK"
      },
      "outputs": [],
      "source": [
        "data['a'] = data['a'].apply(lambda x: eval(\"x\"))"
      ]
    },
    {
      "cell_type": "code",
      "execution_count": null,
      "metadata": {
        "id": "UcY60pozLw2P"
      },
      "outputs": [],
      "source": [
        "data['a'] = data['a'].apply(lambda x:\" \".join(x))"
      ]
    },
    {
      "cell_type": "code",
      "execution_count": null,
      "metadata": {
        "colab": {
          "base_uri": "https://localhost:8080/",
          "height": 423
        },
        "id": "Cn25yz03L5ZH",
        "outputId": "e7b64066-a766-45ea-d146-6b592b66ac95"
      },
      "outputs": [
        {
          "data": {
            "text/html": [
              "\n",
              "  <div id=\"df-9784739a-ee35-4472-a047-26a0faeda658\">\n",
              "    <div class=\"colab-df-container\">\n",
              "      <div>\n",
              "<style scoped>\n",
              "    .dataframe tbody tr th:only-of-type {\n",
              "        vertical-align: middle;\n",
              "    }\n",
              "\n",
              "    .dataframe tbody tr th {\n",
              "        vertical-align: top;\n",
              "    }\n",
              "\n",
              "    .dataframe thead th {\n",
              "        text-align: right;\n",
              "    }\n",
              "</style>\n",
              "<table border=\"1\" class=\"dataframe\">\n",
              "  <thead>\n",
              "    <tr style=\"text-align: right;\">\n",
              "      <th></th>\n",
              "      <th>a</th>\n",
              "      <th>new</th>\n",
              "      <th>y</th>\n",
              "    </tr>\n",
              "  </thead>\n",
              "  <tbody>\n",
              "    <tr>\n",
              "      <th>0</th>\n",
              "      <td>thyroid surgeri children singl institut osama ...</td>\n",
              "      <td>2</td>\n",
              "      <td>thyroid surgeri children singl institut osama ...</td>\n",
              "    </tr>\n",
              "    <tr>\n",
              "      <th>1</th>\n",
              "      <td>adopt strategi use prior year base four exclus...</td>\n",
              "      <td>2</td>\n",
              "      <td>adopt strategi use prior year base four exclus...</td>\n",
              "    </tr>\n",
              "    <tr>\n",
              "      <th>2</th>\n",
              "      <td>coronari arterybypass graft thrombosi mutation...</td>\n",
              "      <td>2</td>\n",
              "      <td>coronari arterybypass graft thrombosi mutation...</td>\n",
              "    </tr>\n",
              "    <tr>\n",
              "      <th>3</th>\n",
              "      <td>solitari plasmacytoma sp skull uncommon clinic...</td>\n",
              "      <td>2</td>\n",
              "      <td>solitari plasmacytoma sp skull uncommon clinic...</td>\n",
              "    </tr>\n",
              "    <tr>\n",
              "      <th>4</th>\n",
              "      <td>studi aim investig serum matrix metalloprotein...</td>\n",
              "      <td>2</td>\n",
              "      <td>studi aim investig serum matrix metalloprotein...</td>\n",
              "    </tr>\n",
              "    <tr>\n",
              "      <th>...</th>\n",
              "      <td>...</td>\n",
              "      <td>...</td>\n",
              "      <td>...</td>\n",
              "    </tr>\n",
              "    <tr>\n",
              "      <th>7565</th>\n",
              "      <td>report case 24yearold man present chief compla...</td>\n",
              "      <td>0</td>\n",
              "      <td>report case 24yearold man present chief compla...</td>\n",
              "    </tr>\n",
              "    <tr>\n",
              "      <th>7566</th>\n",
              "      <td>among synchron colorect cancer scrcs report pr...</td>\n",
              "      <td>0</td>\n",
              "      <td>among synchron colorect cancer scrcs report pr...</td>\n",
              "    </tr>\n",
              "    <tr>\n",
              "      <th>7567</th>\n",
              "      <td>heterogen cancer cell general accept astem cel...</td>\n",
              "      <td>0</td>\n",
              "      <td>heterogen cancer cell general accept astem cel...</td>\n",
              "    </tr>\n",
              "    <tr>\n",
              "      <th>7568</th>\n",
              "      <td>adipogenesi process mesenchymalstem cell mscs ...</td>\n",
              "      <td>0</td>\n",
              "      <td>adipogenesi process mesenchymalstem cell mscs ...</td>\n",
              "    </tr>\n",
              "    <tr>\n",
              "      <th>7569</th>\n",
              "      <td>periparturi period one challeng period dairi c...</td>\n",
              "      <td>0</td>\n",
              "      <td>periparturi period one challeng period dairi c...</td>\n",
              "    </tr>\n",
              "  </tbody>\n",
              "</table>\n",
              "<p>7570 rows × 3 columns</p>\n",
              "</div>\n",
              "      <button class=\"colab-df-convert\" onclick=\"convertToInteractive('df-9784739a-ee35-4472-a047-26a0faeda658')\"\n",
              "              title=\"Convert this dataframe to an interactive table.\"\n",
              "              style=\"display:none;\">\n",
              "        \n",
              "  <svg xmlns=\"http://www.w3.org/2000/svg\" height=\"24px\"viewBox=\"0 0 24 24\"\n",
              "       width=\"24px\">\n",
              "    <path d=\"M0 0h24v24H0V0z\" fill=\"none\"/>\n",
              "    <path d=\"M18.56 5.44l.94 2.06.94-2.06 2.06-.94-2.06-.94-.94-2.06-.94 2.06-2.06.94zm-11 1L8.5 8.5l.94-2.06 2.06-.94-2.06-.94L8.5 2.5l-.94 2.06-2.06.94zm10 10l.94 2.06.94-2.06 2.06-.94-2.06-.94-.94-2.06-.94 2.06-2.06.94z\"/><path d=\"M17.41 7.96l-1.37-1.37c-.4-.4-.92-.59-1.43-.59-.52 0-1.04.2-1.43.59L10.3 9.45l-7.72 7.72c-.78.78-.78 2.05 0 2.83L4 21.41c.39.39.9.59 1.41.59.51 0 1.02-.2 1.41-.59l7.78-7.78 2.81-2.81c.8-.78.8-2.07 0-2.86zM5.41 20L4 18.59l7.72-7.72 1.47 1.35L5.41 20z\"/>\n",
              "  </svg>\n",
              "      </button>\n",
              "      \n",
              "  <style>\n",
              "    .colab-df-container {\n",
              "      display:flex;\n",
              "      flex-wrap:wrap;\n",
              "      gap: 12px;\n",
              "    }\n",
              "\n",
              "    .colab-df-convert {\n",
              "      background-color: #E8F0FE;\n",
              "      border: none;\n",
              "      border-radius: 50%;\n",
              "      cursor: pointer;\n",
              "      display: none;\n",
              "      fill: #1967D2;\n",
              "      height: 32px;\n",
              "      padding: 0 0 0 0;\n",
              "      width: 32px;\n",
              "    }\n",
              "\n",
              "    .colab-df-convert:hover {\n",
              "      background-color: #E2EBFA;\n",
              "      box-shadow: 0px 1px 2px rgba(60, 64, 67, 0.3), 0px 1px 3px 1px rgba(60, 64, 67, 0.15);\n",
              "      fill: #174EA6;\n",
              "    }\n",
              "\n",
              "    [theme=dark] .colab-df-convert {\n",
              "      background-color: #3B4455;\n",
              "      fill: #D2E3FC;\n",
              "    }\n",
              "\n",
              "    [theme=dark] .colab-df-convert:hover {\n",
              "      background-color: #434B5C;\n",
              "      box-shadow: 0px 1px 3px 1px rgba(0, 0, 0, 0.15);\n",
              "      filter: drop-shadow(0px 1px 2px rgba(0, 0, 0, 0.3));\n",
              "      fill: #FFFFFF;\n",
              "    }\n",
              "  </style>\n",
              "\n",
              "      <script>\n",
              "        const buttonEl =\n",
              "          document.querySelector('#df-9784739a-ee35-4472-a047-26a0faeda658 button.colab-df-convert');\n",
              "        buttonEl.style.display =\n",
              "          google.colab.kernel.accessAllowed ? 'block' : 'none';\n",
              "\n",
              "        async function convertToInteractive(key) {\n",
              "          const element = document.querySelector('#df-9784739a-ee35-4472-a047-26a0faeda658');\n",
              "          const dataTable =\n",
              "            await google.colab.kernel.invokeFunction('convertToInteractive',\n",
              "                                                     [key], {});\n",
              "          if (!dataTable) return;\n",
              "\n",
              "          const docLinkHtml = 'Like what you see? Visit the ' +\n",
              "            '<a target=\"_blank\" href=https://colab.research.google.com/notebooks/data_table.ipynb>data table notebook</a>'\n",
              "            + ' to learn more about interactive tables.';\n",
              "          element.innerHTML = '';\n",
              "          dataTable['output_type'] = 'display_data';\n",
              "          await google.colab.output.renderOutput(dataTable, element);\n",
              "          const docLink = document.createElement('div');\n",
              "          docLink.innerHTML = docLinkHtml;\n",
              "          element.appendChild(docLink);\n",
              "        }\n",
              "      </script>\n",
              "    </div>\n",
              "  </div>\n",
              "  "
            ],
            "text/plain": [
              "                                                      a  new  \\\n",
              "0     thyroid surgeri children singl institut osama ...    2   \n",
              "1     adopt strategi use prior year base four exclus...    2   \n",
              "2     coronari arterybypass graft thrombosi mutation...    2   \n",
              "3     solitari plasmacytoma sp skull uncommon clinic...    2   \n",
              "4     studi aim investig serum matrix metalloprotein...    2   \n",
              "...                                                 ...  ...   \n",
              "7565  report case 24yearold man present chief compla...    0   \n",
              "7566  among synchron colorect cancer scrcs report pr...    0   \n",
              "7567  heterogen cancer cell general accept astem cel...    0   \n",
              "7568  adipogenesi process mesenchymalstem cell mscs ...    0   \n",
              "7569  periparturi period one challeng period dairi c...    0   \n",
              "\n",
              "                                                      y  \n",
              "0     thyroid surgeri children singl institut osama ...  \n",
              "1     adopt strategi use prior year base four exclus...  \n",
              "2     coronari arterybypass graft thrombosi mutation...  \n",
              "3     solitari plasmacytoma sp skull uncommon clinic...  \n",
              "4     studi aim investig serum matrix metalloprotein...  \n",
              "...                                                 ...  \n",
              "7565  report case 24yearold man present chief compla...  \n",
              "7566  among synchron colorect cancer scrcs report pr...  \n",
              "7567  heterogen cancer cell general accept astem cel...  \n",
              "7568  adipogenesi process mesenchymalstem cell mscs ...  \n",
              "7569  periparturi period one challeng period dairi c...  \n",
              "\n",
              "[7570 rows x 3 columns]"
            ]
          },
          "execution_count": 140,
          "metadata": {},
          "output_type": "execute_result"
        }
      ],
      "source": [
        "data\n"
      ]
    },
    {
      "cell_type": "code",
      "execution_count": null,
      "metadata": {
        "id": "sM2yNv6HL8L3"
      },
      "outputs": [],
      "source": [
        "data.drop(['a','y'],axis=1,inplace=True)"
      ]
    },
    {
      "cell_type": "code",
      "execution_count": null,
      "metadata": {
        "id": "F7n1ydCkMD6o"
      },
      "outputs": [],
      "source": [
        "data.rename(columns = {'n':'text'}, inplace = True)"
      ]
    },
    {
      "cell_type": "code",
      "execution_count": null,
      "metadata": {
        "id": "IJhb2GIgMGgI"
      },
      "outputs": [],
      "source": [
        "data.rename(columns = {'new':''}, inplace = True)"
      ]
    },
    {
      "cell_type": "code",
      "execution_count": null,
      "metadata": {
        "colab": {
          "base_uri": "https://localhost:8080/"
        },
        "id": "bTX3K-YJrgbp",
        "outputId": "4280a4c5-ba81-4b81-cd52-5accc026e234"
      },
      "outputs": [
        {
          "name": "stdout",
          "output_type": "stream",
          "text": [
            "Looking in indexes: https://pypi.org/simple, https://us-python.pkg.dev/colab-wheels/public/simple/\n",
            "Requirement already satisfied: transformers in /usr/local/lib/python3.10/dist-packages (4.29.2)\n",
            "Requirement already satisfied: filelock in /usr/local/lib/python3.10/dist-packages (from transformers) (3.12.0)\n",
            "Requirement already satisfied: huggingface-hub<1.0,>=0.14.1 in /usr/local/lib/python3.10/dist-packages (from transformers) (0.14.1)\n",
            "Requirement already satisfied: numpy>=1.17 in /usr/local/lib/python3.10/dist-packages (from transformers) (1.22.4)\n",
            "Requirement already satisfied: packaging>=20.0 in /usr/local/lib/python3.10/dist-packages (from transformers) (23.1)\n",
            "Requirement already satisfied: pyyaml>=5.1 in /usr/local/lib/python3.10/dist-packages (from transformers) (6.0)\n",
            "Requirement already satisfied: regex!=2019.12.17 in /usr/local/lib/python3.10/dist-packages (from transformers) (2022.10.31)\n",
            "Requirement already satisfied: requests in /usr/local/lib/python3.10/dist-packages (from transformers) (2.27.1)\n",
            "Requirement already satisfied: tokenizers!=0.11.3,<0.14,>=0.11.1 in /usr/local/lib/python3.10/dist-packages (from transformers) (0.13.3)\n",
            "Requirement already satisfied: tqdm>=4.27 in /usr/local/lib/python3.10/dist-packages (from transformers) (4.65.0)\n",
            "Requirement already satisfied: fsspec in /usr/local/lib/python3.10/dist-packages (from huggingface-hub<1.0,>=0.14.1->transformers) (2023.4.0)\n",
            "Requirement already satisfied: typing-extensions>=3.7.4.3 in /usr/local/lib/python3.10/dist-packages (from huggingface-hub<1.0,>=0.14.1->transformers) (4.5.0)\n",
            "Requirement already satisfied: urllib3<1.27,>=1.21.1 in /usr/local/lib/python3.10/dist-packages (from requests->transformers) (1.26.15)\n",
            "Requirement already satisfied: certifi>=2017.4.17 in /usr/local/lib/python3.10/dist-packages (from requests->transformers) (2022.12.7)\n",
            "Requirement already satisfied: charset-normalizer~=2.0.0 in /usr/local/lib/python3.10/dist-packages (from requests->transformers) (2.0.12)\n",
            "Requirement already satisfied: idna<4,>=2.5 in /usr/local/lib/python3.10/dist-packages (from requests->transformers) (3.4)\n"
          ]
        }
      ],
      "source": [
        "import numpy as np\n",
        "import pandas as pd\n",
        "!pip install transformers"
      ]
    },
    {
      "cell_type": "code",
      "execution_count": null,
      "metadata": {
        "colab": {
          "base_uri": "https://localhost:8080/"
        },
        "id": "KqmOvuNBziw0",
        "outputId": "c0e2c5d9-7268-45ca-a08c-5ebb484b2f28"
      },
      "outputs": [
        {
          "name": "stdout",
          "output_type": "stream",
          "text": [
            "Drive already mounted at /content/drive; to attempt to forcibly remount, call drive.mount(\"/content/drive\", force_remount=True).\n"
          ]
        }
      ],
      "source": [
        "from google.colab import drive\n",
        "drive.mount('/content/drive')"
      ]
    },
    {
      "cell_type": "code",
      "execution_count": null,
      "metadata": {
        "id": "ruPvnq4Sr6qZ"
      },
      "outputs": [],
      "source": [
        "data = pd.read_csv('/content/drive/MyDrive/output2.csv',encoding='latin1')"
      ]
    },
    {
      "cell_type": "code",
      "execution_count": null,
      "metadata": {
        "colab": {
          "base_uri": "https://localhost:8080/",
          "height": 423
        },
        "id": "lUWnoSlor-XY",
        "outputId": "f255037f-04fe-41b6-fe16-a8bddede4cbb"
      },
      "outputs": [
        {
          "data": {
            "text/html": [
              "\n",
              "  <div id=\"df-e80ab58e-266d-47f4-ab99-08e040cc8844\">\n",
              "    <div class=\"colab-df-container\">\n",
              "      <div>\n",
              "<style scoped>\n",
              "    .dataframe tbody tr th:only-of-type {\n",
              "        vertical-align: middle;\n",
              "    }\n",
              "\n",
              "    .dataframe tbody tr th {\n",
              "        vertical-align: top;\n",
              "    }\n",
              "\n",
              "    .dataframe thead th {\n",
              "        text-align: right;\n",
              "    }\n",
              "</style>\n",
              "<table border=\"1\" class=\"dataframe\">\n",
              "  <thead>\n",
              "    <tr style=\"text-align: right;\">\n",
              "      <th></th>\n",
              "      <th>ï»¿</th>\n",
              "      <th>label</th>\n",
              "      <th>text</th>\n",
              "    </tr>\n",
              "  </thead>\n",
              "  <tbody>\n",
              "    <tr>\n",
              "      <th>0</th>\n",
              "      <td>0</td>\n",
              "      <td>2</td>\n",
              "      <td>thyroid surgeri children singl institut osama ...</td>\n",
              "    </tr>\n",
              "    <tr>\n",
              "      <th>1</th>\n",
              "      <td>1</td>\n",
              "      <td>2</td>\n",
              "      <td>adopt strategi use prior year base four exclus...</td>\n",
              "    </tr>\n",
              "    <tr>\n",
              "      <th>2</th>\n",
              "      <td>2</td>\n",
              "      <td>2</td>\n",
              "      <td>coronari arterybypass graft thrombosi mutation...</td>\n",
              "    </tr>\n",
              "    <tr>\n",
              "      <th>3</th>\n",
              "      <td>3</td>\n",
              "      <td>2</td>\n",
              "      <td>solitari plasmacytoma sp skull uncommon clinic...</td>\n",
              "    </tr>\n",
              "    <tr>\n",
              "      <th>4</th>\n",
              "      <td>4</td>\n",
              "      <td>2</td>\n",
              "      <td>studi aim investig serum matrix metalloprotein...</td>\n",
              "    </tr>\n",
              "    <tr>\n",
              "      <th>...</th>\n",
              "      <td>...</td>\n",
              "      <td>...</td>\n",
              "      <td>...</td>\n",
              "    </tr>\n",
              "    <tr>\n",
              "      <th>7565</th>\n",
              "      <td>7565</td>\n",
              "      <td>0</td>\n",
              "      <td>report case 24yearold man present chief compla...</td>\n",
              "    </tr>\n",
              "    <tr>\n",
              "      <th>7566</th>\n",
              "      <td>7566</td>\n",
              "      <td>0</td>\n",
              "      <td>among synchron colorect cancer scrcs report pr...</td>\n",
              "    </tr>\n",
              "    <tr>\n",
              "      <th>7567</th>\n",
              "      <td>7567</td>\n",
              "      <td>0</td>\n",
              "      <td>heterogen cancer cell general accept astem cel...</td>\n",
              "    </tr>\n",
              "    <tr>\n",
              "      <th>7568</th>\n",
              "      <td>7568</td>\n",
              "      <td>0</td>\n",
              "      <td>adipogenesi process mesenchymalstem cell mscs ...</td>\n",
              "    </tr>\n",
              "    <tr>\n",
              "      <th>7569</th>\n",
              "      <td>7569</td>\n",
              "      <td>0</td>\n",
              "      <td>periparturi period one challeng period dairi c...</td>\n",
              "    </tr>\n",
              "  </tbody>\n",
              "</table>\n",
              "<p>7570 rows × 3 columns</p>\n",
              "</div>\n",
              "      <button class=\"colab-df-convert\" onclick=\"convertToInteractive('df-e80ab58e-266d-47f4-ab99-08e040cc8844')\"\n",
              "              title=\"Convert this dataframe to an interactive table.\"\n",
              "              style=\"display:none;\">\n",
              "        \n",
              "  <svg xmlns=\"http://www.w3.org/2000/svg\" height=\"24px\"viewBox=\"0 0 24 24\"\n",
              "       width=\"24px\">\n",
              "    <path d=\"M0 0h24v24H0V0z\" fill=\"none\"/>\n",
              "    <path d=\"M18.56 5.44l.94 2.06.94-2.06 2.06-.94-2.06-.94-.94-2.06-.94 2.06-2.06.94zm-11 1L8.5 8.5l.94-2.06 2.06-.94-2.06-.94L8.5 2.5l-.94 2.06-2.06.94zm10 10l.94 2.06.94-2.06 2.06-.94-2.06-.94-.94-2.06-.94 2.06-2.06.94z\"/><path d=\"M17.41 7.96l-1.37-1.37c-.4-.4-.92-.59-1.43-.59-.52 0-1.04.2-1.43.59L10.3 9.45l-7.72 7.72c-.78.78-.78 2.05 0 2.83L4 21.41c.39.39.9.59 1.41.59.51 0 1.02-.2 1.41-.59l7.78-7.78 2.81-2.81c.8-.78.8-2.07 0-2.86zM5.41 20L4 18.59l7.72-7.72 1.47 1.35L5.41 20z\"/>\n",
              "  </svg>\n",
              "      </button>\n",
              "      \n",
              "  <style>\n",
              "    .colab-df-container {\n",
              "      display:flex;\n",
              "      flex-wrap:wrap;\n",
              "      gap: 12px;\n",
              "    }\n",
              "\n",
              "    .colab-df-convert {\n",
              "      background-color: #E8F0FE;\n",
              "      border: none;\n",
              "      border-radius: 50%;\n",
              "      cursor: pointer;\n",
              "      display: none;\n",
              "      fill: #1967D2;\n",
              "      height: 32px;\n",
              "      padding: 0 0 0 0;\n",
              "      width: 32px;\n",
              "    }\n",
              "\n",
              "    .colab-df-convert:hover {\n",
              "      background-color: #E2EBFA;\n",
              "      box-shadow: 0px 1px 2px rgba(60, 64, 67, 0.3), 0px 1px 3px 1px rgba(60, 64, 67, 0.15);\n",
              "      fill: #174EA6;\n",
              "    }\n",
              "\n",
              "    [theme=dark] .colab-df-convert {\n",
              "      background-color: #3B4455;\n",
              "      fill: #D2E3FC;\n",
              "    }\n",
              "\n",
              "    [theme=dark] .colab-df-convert:hover {\n",
              "      background-color: #434B5C;\n",
              "      box-shadow: 0px 1px 3px 1px rgba(0, 0, 0, 0.15);\n",
              "      filter: drop-shadow(0px 1px 2px rgba(0, 0, 0, 0.3));\n",
              "      fill: #FFFFFF;\n",
              "    }\n",
              "  </style>\n",
              "\n",
              "      <script>\n",
              "        const buttonEl =\n",
              "          document.querySelector('#df-e80ab58e-266d-47f4-ab99-08e040cc8844 button.colab-df-convert');\n",
              "        buttonEl.style.display =\n",
              "          google.colab.kernel.accessAllowed ? 'block' : 'none';\n",
              "\n",
              "        async function convertToInteractive(key) {\n",
              "          const element = document.querySelector('#df-e80ab58e-266d-47f4-ab99-08e040cc8844');\n",
              "          const dataTable =\n",
              "            await google.colab.kernel.invokeFunction('convertToInteractive',\n",
              "                                                     [key], {});\n",
              "          if (!dataTable) return;\n",
              "\n",
              "          const docLinkHtml = 'Like what you see? Visit the ' +\n",
              "            '<a target=\"_blank\" href=https://colab.research.google.com/notebooks/data_table.ipynb>data table notebook</a>'\n",
              "            + ' to learn more about interactive tables.';\n",
              "          element.innerHTML = '';\n",
              "          dataTable['output_type'] = 'display_data';\n",
              "          await google.colab.output.renderOutput(dataTable, element);\n",
              "          const docLink = document.createElement('div');\n",
              "          docLink.innerHTML = docLinkHtml;\n",
              "          element.appendChild(docLink);\n",
              "        }\n",
              "      </script>\n",
              "    </div>\n",
              "  </div>\n",
              "  "
            ],
            "text/plain": [
              "       ï»¿  label                                               text\n",
              "0        0      2  thyroid surgeri children singl institut osama ...\n",
              "1        1      2  adopt strategi use prior year base four exclus...\n",
              "2        2      2  coronari arterybypass graft thrombosi mutation...\n",
              "3        3      2  solitari plasmacytoma sp skull uncommon clinic...\n",
              "4        4      2  studi aim investig serum matrix metalloprotein...\n",
              "...    ...    ...                                                ...\n",
              "7565  7565      0  report case 24yearold man present chief compla...\n",
              "7566  7566      0  among synchron colorect cancer scrcs report pr...\n",
              "7567  7567      0  heterogen cancer cell general accept astem cel...\n",
              "7568  7568      0  adipogenesi process mesenchymalstem cell mscs ...\n",
              "7569  7569      0  periparturi period one challeng period dairi c...\n",
              "\n",
              "[7570 rows x 3 columns]"
            ]
          },
          "execution_count": 5,
          "metadata": {},
          "output_type": "execute_result"
        }
      ],
      "source": [
        "data"
      ]
    },
    {
      "cell_type": "code",
      "execution_count": null,
      "metadata": {
        "id": "kgLHw8PTsAho"
      },
      "outputs": [],
      "source": [
        "data.drop('ï»¿',axis = 1, inplace = True)"
      ]
    },
    {
      "cell_type": "code",
      "execution_count": null,
      "metadata": {
        "colab": {
          "base_uri": "https://localhost:8080/",
          "height": 423
        },
        "id": "x0GllInLsIcG",
        "outputId": "bb4f3a09-183b-4044-9e26-998cd5bf0c8a"
      },
      "outputs": [
        {
          "data": {
            "text/html": [
              "\n",
              "  <div id=\"df-80ac98fe-759a-437f-9e13-89dcda3df23a\">\n",
              "    <div class=\"colab-df-container\">\n",
              "      <div>\n",
              "<style scoped>\n",
              "    .dataframe tbody tr th:only-of-type {\n",
              "        vertical-align: middle;\n",
              "    }\n",
              "\n",
              "    .dataframe tbody tr th {\n",
              "        vertical-align: top;\n",
              "    }\n",
              "\n",
              "    .dataframe thead th {\n",
              "        text-align: right;\n",
              "    }\n",
              "</style>\n",
              "<table border=\"1\" class=\"dataframe\">\n",
              "  <thead>\n",
              "    <tr style=\"text-align: right;\">\n",
              "      <th></th>\n",
              "      <th>label</th>\n",
              "      <th>text</th>\n",
              "    </tr>\n",
              "  </thead>\n",
              "  <tbody>\n",
              "    <tr>\n",
              "      <th>0</th>\n",
              "      <td>2</td>\n",
              "      <td>thyroid surgeri children singl institut osama ...</td>\n",
              "    </tr>\n",
              "    <tr>\n",
              "      <th>1</th>\n",
              "      <td>2</td>\n",
              "      <td>adopt strategi use prior year base four exclus...</td>\n",
              "    </tr>\n",
              "    <tr>\n",
              "      <th>2</th>\n",
              "      <td>2</td>\n",
              "      <td>coronari arterybypass graft thrombosi mutation...</td>\n",
              "    </tr>\n",
              "    <tr>\n",
              "      <th>3</th>\n",
              "      <td>2</td>\n",
              "      <td>solitari plasmacytoma sp skull uncommon clinic...</td>\n",
              "    </tr>\n",
              "    <tr>\n",
              "      <th>4</th>\n",
              "      <td>2</td>\n",
              "      <td>studi aim investig serum matrix metalloprotein...</td>\n",
              "    </tr>\n",
              "    <tr>\n",
              "      <th>...</th>\n",
              "      <td>...</td>\n",
              "      <td>...</td>\n",
              "    </tr>\n",
              "    <tr>\n",
              "      <th>7565</th>\n",
              "      <td>0</td>\n",
              "      <td>report case 24yearold man present chief compla...</td>\n",
              "    </tr>\n",
              "    <tr>\n",
              "      <th>7566</th>\n",
              "      <td>0</td>\n",
              "      <td>among synchron colorect cancer scrcs report pr...</td>\n",
              "    </tr>\n",
              "    <tr>\n",
              "      <th>7567</th>\n",
              "      <td>0</td>\n",
              "      <td>heterogen cancer cell general accept astem cel...</td>\n",
              "    </tr>\n",
              "    <tr>\n",
              "      <th>7568</th>\n",
              "      <td>0</td>\n",
              "      <td>adipogenesi process mesenchymalstem cell mscs ...</td>\n",
              "    </tr>\n",
              "    <tr>\n",
              "      <th>7569</th>\n",
              "      <td>0</td>\n",
              "      <td>periparturi period one challeng period dairi c...</td>\n",
              "    </tr>\n",
              "  </tbody>\n",
              "</table>\n",
              "<p>7570 rows × 2 columns</p>\n",
              "</div>\n",
              "      <button class=\"colab-df-convert\" onclick=\"convertToInteractive('df-80ac98fe-759a-437f-9e13-89dcda3df23a')\"\n",
              "              title=\"Convert this dataframe to an interactive table.\"\n",
              "              style=\"display:none;\">\n",
              "        \n",
              "  <svg xmlns=\"http://www.w3.org/2000/svg\" height=\"24px\"viewBox=\"0 0 24 24\"\n",
              "       width=\"24px\">\n",
              "    <path d=\"M0 0h24v24H0V0z\" fill=\"none\"/>\n",
              "    <path d=\"M18.56 5.44l.94 2.06.94-2.06 2.06-.94-2.06-.94-.94-2.06-.94 2.06-2.06.94zm-11 1L8.5 8.5l.94-2.06 2.06-.94-2.06-.94L8.5 2.5l-.94 2.06-2.06.94zm10 10l.94 2.06.94-2.06 2.06-.94-2.06-.94-.94-2.06-.94 2.06-2.06.94z\"/><path d=\"M17.41 7.96l-1.37-1.37c-.4-.4-.92-.59-1.43-.59-.52 0-1.04.2-1.43.59L10.3 9.45l-7.72 7.72c-.78.78-.78 2.05 0 2.83L4 21.41c.39.39.9.59 1.41.59.51 0 1.02-.2 1.41-.59l7.78-7.78 2.81-2.81c.8-.78.8-2.07 0-2.86zM5.41 20L4 18.59l7.72-7.72 1.47 1.35L5.41 20z\"/>\n",
              "  </svg>\n",
              "      </button>\n",
              "      \n",
              "  <style>\n",
              "    .colab-df-container {\n",
              "      display:flex;\n",
              "      flex-wrap:wrap;\n",
              "      gap: 12px;\n",
              "    }\n",
              "\n",
              "    .colab-df-convert {\n",
              "      background-color: #E8F0FE;\n",
              "      border: none;\n",
              "      border-radius: 50%;\n",
              "      cursor: pointer;\n",
              "      display: none;\n",
              "      fill: #1967D2;\n",
              "      height: 32px;\n",
              "      padding: 0 0 0 0;\n",
              "      width: 32px;\n",
              "    }\n",
              "\n",
              "    .colab-df-convert:hover {\n",
              "      background-color: #E2EBFA;\n",
              "      box-shadow: 0px 1px 2px rgba(60, 64, 67, 0.3), 0px 1px 3px 1px rgba(60, 64, 67, 0.15);\n",
              "      fill: #174EA6;\n",
              "    }\n",
              "\n",
              "    [theme=dark] .colab-df-convert {\n",
              "      background-color: #3B4455;\n",
              "      fill: #D2E3FC;\n",
              "    }\n",
              "\n",
              "    [theme=dark] .colab-df-convert:hover {\n",
              "      background-color: #434B5C;\n",
              "      box-shadow: 0px 1px 3px 1px rgba(0, 0, 0, 0.15);\n",
              "      filter: drop-shadow(0px 1px 2px rgba(0, 0, 0, 0.3));\n",
              "      fill: #FFFFFF;\n",
              "    }\n",
              "  </style>\n",
              "\n",
              "      <script>\n",
              "        const buttonEl =\n",
              "          document.querySelector('#df-80ac98fe-759a-437f-9e13-89dcda3df23a button.colab-df-convert');\n",
              "        buttonEl.style.display =\n",
              "          google.colab.kernel.accessAllowed ? 'block' : 'none';\n",
              "\n",
              "        async function convertToInteractive(key) {\n",
              "          const element = document.querySelector('#df-80ac98fe-759a-437f-9e13-89dcda3df23a');\n",
              "          const dataTable =\n",
              "            await google.colab.kernel.invokeFunction('convertToInteractive',\n",
              "                                                     [key], {});\n",
              "          if (!dataTable) return;\n",
              "\n",
              "          const docLinkHtml = 'Like what you see? Visit the ' +\n",
              "            '<a target=\"_blank\" href=https://colab.research.google.com/notebooks/data_table.ipynb>data table notebook</a>'\n",
              "            + ' to learn more about interactive tables.';\n",
              "          element.innerHTML = '';\n",
              "          dataTable['output_type'] = 'display_data';\n",
              "          await google.colab.output.renderOutput(dataTable, element);\n",
              "          const docLink = document.createElement('div');\n",
              "          docLink.innerHTML = docLinkHtml;\n",
              "          element.appendChild(docLink);\n",
              "        }\n",
              "      </script>\n",
              "    </div>\n",
              "  </div>\n",
              "  "
            ],
            "text/plain": [
              "      label                                               text\n",
              "0         2  thyroid surgeri children singl institut osama ...\n",
              "1         2  adopt strategi use prior year base four exclus...\n",
              "2         2  coronari arterybypass graft thrombosi mutation...\n",
              "3         2  solitari plasmacytoma sp skull uncommon clinic...\n",
              "4         2  studi aim investig serum matrix metalloprotein...\n",
              "...     ...                                                ...\n",
              "7565      0  report case 24yearold man present chief compla...\n",
              "7566      0  among synchron colorect cancer scrcs report pr...\n",
              "7567      0  heterogen cancer cell general accept astem cel...\n",
              "7568      0  adipogenesi process mesenchymalstem cell mscs ...\n",
              "7569      0  periparturi period one challeng period dairi c...\n",
              "\n",
              "[7570 rows x 2 columns]"
            ]
          },
          "execution_count": 7,
          "metadata": {},
          "output_type": "execute_result"
        }
      ],
      "source": [
        "data"
      ]
    },
    {
      "cell_type": "code",
      "execution_count": null,
      "metadata": {
        "colab": {
          "base_uri": "https://localhost:8080/"
        },
        "id": "FKKNiy6ysURY",
        "outputId": "60562423-d202-4758-f37e-e878559b30dc"
      },
      "outputs": [
        {
          "data": {
            "text/plain": [
              "(7570, 8192)"
            ]
          },
          "execution_count": 8,
          "metadata": {},
          "output_type": "execute_result"
        }
      ],
      "source": [
        "seq_len =  8192\n",
        "num_samples = len(data)\n",
        "\n",
        "Xids = np.zeros((num_samples, seq_len))\n",
        "Xmask = np.zeros((num_samples, seq_len))\n",
        "\n",
        "Xids.shape"
      ]
    },
    {
      "cell_type": "code",
      "execution_count": null,
      "metadata": {
        "id": "J7Kq1CM4sXxl"
      },
      "outputs": [],
      "source": [
        "from transformers import BertTokenizer\n",
        "\n",
        "tokenizer = BertTokenizer.from_pretrained('bert-base-cased')\n",
        "for i, text in enumerate(data['text']):\n",
        "  tokens = tokenizer.encode_plus(text, max_length = seq_len, truncation=True, padding='max_length', add_special_tokens=True, return_tensors='tf')\n",
        "  Xids[i, :] = tokens['input_ids']\n",
        "  Xmask[i, :] = tokens['attention_mask']"
      ]
    },
    {
      "cell_type": "code",
      "execution_count": null,
      "metadata": {
        "colab": {
          "base_uri": "https://localhost:8080/"
        },
        "id": "wTPM5dUGsr-p",
        "outputId": "544dd211-d47e-42a3-a2f3-f7c58578c653"
      },
      "outputs": [
        {
          "data": {
            "text/plain": [
              "array([[  101., 21153., 16219., ...,     0.,     0.,     0.],\n",
              "       [  101., 11258.,   188., ...,     0.,     0.,     0.],\n",
              "       [  101.,  1884., 15789., ...,     0.,     0.,     0.],\n",
              "       ...,\n",
              "       [  101.,  1119., 25710., ...,     0.,     0.,     0.],\n",
              "       [  101.,  8050.,  9717., ...,     0.,     0.,     0.],\n",
              "       [  101.,  1679.,  9717., ...,     0.,     0.,     0.]])"
            ]
          },
          "execution_count": 10,
          "metadata": {},
          "output_type": "execute_result"
        }
      ],
      "source": [
        "Xids"
      ]
    },
    {
      "cell_type": "code",
      "execution_count": null,
      "metadata": {
        "colab": {
          "base_uri": "https://localhost:8080/"
        },
        "id": "nYdqM-N1wwWQ",
        "outputId": "94fee97c-4270-48bb-995a-0dd09edcafd4"
      },
      "outputs": [
        {
          "data": {
            "text/plain": [
              "array([[1., 1., 1., ..., 0., 0., 0.],\n",
              "       [1., 1., 1., ..., 0., 0., 0.],\n",
              "       [1., 1., 1., ..., 0., 0., 0.],\n",
              "       ...,\n",
              "       [1., 1., 1., ..., 0., 0., 0.],\n",
              "       [1., 1., 1., ..., 0., 0., 0.],\n",
              "       [1., 1., 1., ..., 0., 0., 0.]])"
            ]
          },
          "execution_count": 11,
          "metadata": {},
          "output_type": "execute_result"
        }
      ],
      "source": [
        "Xmask"
      ]
    },
    {
      "cell_type": "code",
      "execution_count": null,
      "metadata": {
        "colab": {
          "base_uri": "https://localhost:8080/"
        },
        "id": "0VJvXzgdxBbZ",
        "outputId": "bfd0b917-8ed1-4ac5-a2c3-d2e9ab134950"
      },
      "outputs": [
        {
          "data": {
            "text/plain": [
              "(7570, 8192)"
            ]
          },
          "execution_count": 12,
          "metadata": {},
          "output_type": "execute_result"
        }
      ],
      "source": [
        "Xids.shape"
      ]
    },
    {
      "cell_type": "code",
      "execution_count": null,
      "metadata": {
        "id": "wig6HfP91lnM"
      },
      "outputs": [],
      "source": [
        "arr = data['label'].values"
      ]
    },
    {
      "cell_type": "code",
      "execution_count": null,
      "metadata": {
        "colab": {
          "base_uri": "https://localhost:8080/"
        },
        "id": "Rx7vXuGa2RYp",
        "outputId": "23307239-6684-42a5-dd81-d57aa84f1091"
      },
      "outputs": [
        {
          "data": {
            "text/plain": [
              "array([2, 2, 2, ..., 0, 0, 0])"
            ]
          },
          "execution_count": 14,
          "metadata": {},
          "output_type": "execute_result"
        }
      ],
      "source": [
        "arr"
      ]
    },
    {
      "cell_type": "code",
      "execution_count": null,
      "metadata": {
        "id": "5x46RC-X2Rvf"
      },
      "outputs": [],
      "source": [
        "labels = np.zeros((num_samples,arr.max()+1))"
      ]
    },
    {
      "cell_type": "code",
      "execution_count": null,
      "metadata": {
        "id": "X_Ie1y7Z2xig"
      },
      "outputs": [],
      "source": [
        "labels[np.arange(num_samples),arr] = 1"
      ]
    },
    {
      "cell_type": "code",
      "execution_count": null,
      "metadata": {
        "id": "QSyl4JC34F4w"
      },
      "outputs": [],
      "source": [
        "import tensorflow as tf"
      ]
    },
    {
      "cell_type": "code",
      "execution_count": null,
      "metadata": {
        "id": "F1E97CkY38jK"
      },
      "outputs": [],
      "source": [
        "dataset = tf.data.Dataset.from_tensor_slices((Xids, Xmask, labels))"
      ]
    },
    {
      "cell_type": "code",
      "execution_count": null,
      "metadata": {
        "colab": {
          "base_uri": "https://localhost:8080/"
        },
        "id": "avSeziAo5v1m",
        "outputId": "0564044e-75b6-4224-dc22-b85e3be286ad"
      },
      "outputs": [
        {
          "data": {
            "text/plain": [
              "<_TakeDataset element_spec=(TensorSpec(shape=(8192,), dtype=tf.float64, name=None), TensorSpec(shape=(8192,), dtype=tf.float64, name=None), TensorSpec(shape=(3,), dtype=tf.float64, name=None))>"
            ]
          },
          "execution_count": 19,
          "metadata": {},
          "output_type": "execute_result"
        }
      ],
      "source": [
        "dataset.take(1)"
      ]
    },
    {
      "cell_type": "code",
      "execution_count": null,
      "metadata": {
        "colab": {
          "base_uri": "https://localhost:8080/"
        },
        "id": "sMoDW7s252dz",
        "outputId": "339d0e55-7a28-4060-e619-a231733c0445"
      },
      "outputs": [
        {
          "data": {
            "text/plain": [
              "<_TensorSliceDataset element_spec=(TensorSpec(shape=(8192,), dtype=tf.float64, name=None), TensorSpec(shape=(8192,), dtype=tf.float64, name=None), TensorSpec(shape=(3,), dtype=tf.float64, name=None))>"
            ]
          },
          "execution_count": 20,
          "metadata": {},
          "output_type": "execute_result"
        }
      ],
      "source": [
        "dataset"
      ]
    },
    {
      "cell_type": "code",
      "execution_count": null,
      "metadata": {
        "id": "cqrN6f9h6AuZ"
      },
      "outputs": [],
      "source": [
        "def map_func(inputs_ids, masks, labels):\n",
        "  return {'input_ids': inputs_ids, 'attention_mask': masks}, labels"
      ]
    },
    {
      "cell_type": "code",
      "execution_count": null,
      "metadata": {
        "id": "GLX0sSD46zaq"
      },
      "outputs": [],
      "source": [
        "dataset = dataset.map(map_func)"
      ]
    },
    {
      "cell_type": "code",
      "execution_count": null,
      "metadata": {
        "colab": {
          "base_uri": "https://localhost:8080/"
        },
        "id": "2j2RFb7M7Lnw",
        "outputId": "327b2566-713f-4b9b-fa6e-a29e357599db"
      },
      "outputs": [
        {
          "data": {
            "text/plain": [
              "<_TakeDataset element_spec=({'input_ids': TensorSpec(shape=(8192,), dtype=tf.float64, name=None), 'attention_mask': TensorSpec(shape=(8192,), dtype=tf.float64, name=None)}, TensorSpec(shape=(3,), dtype=tf.float64, name=None))>"
            ]
          },
          "execution_count": 23,
          "metadata": {},
          "output_type": "execute_result"
        }
      ],
      "source": [
        "dataset.take(1)"
      ]
    },
    {
      "cell_type": "code",
      "execution_count": null,
      "metadata": {
        "id": "4zqv_seh7boH"
      },
      "outputs": [],
      "source": [
        "batch_size = 12\n",
        "dataset = dataset.shuffle(10000).batch(batch_size,drop_remainder = True)"
      ]
    },
    {
      "cell_type": "code",
      "execution_count": null,
      "metadata": {
        "colab": {
          "base_uri": "https://localhost:8080/"
        },
        "id": "dnVimC0_AU_3",
        "outputId": "db7c4c48-e6a5-44bd-e2e7-777acbd3c5b5"
      },
      "outputs": [
        {
          "data": {
            "text/plain": [
              "<_TakeDataset element_spec=({'input_ids': TensorSpec(shape=(12, 8192), dtype=tf.float64, name=None), 'attention_mask': TensorSpec(shape=(12, 8192), dtype=tf.float64, name=None)}, TensorSpec(shape=(12, 3), dtype=tf.float64, name=None))>"
            ]
          },
          "execution_count": 25,
          "metadata": {},
          "output_type": "execute_result"
        }
      ],
      "source": [
        "dataset.take(1)"
      ]
    },
    {
      "cell_type": "code",
      "execution_count": null,
      "metadata": {
        "id": "2CJoEHmMAWf_"
      },
      "outputs": [],
      "source": [
        "split = 0.9\n",
        "size = int((num_samples/batch_size)*split) "
      ]
    },
    {
      "cell_type": "code",
      "execution_count": null,
      "metadata": {
        "colab": {
          "base_uri": "https://localhost:8080/"
        },
        "id": "MOvMr8uxAua7",
        "outputId": "ceed6bbb-d881-4cb4-892a-b61c495eb931"
      },
      "outputs": [
        {
          "data": {
            "text/plain": [
              "7570"
            ]
          },
          "execution_count": 27,
          "metadata": {},
          "output_type": "execute_result"
        }
      ],
      "source": [
        "Xids.shape[0]"
      ]
    },
    {
      "cell_type": "code",
      "execution_count": null,
      "metadata": {
        "colab": {
          "base_uri": "https://localhost:8080/"
        },
        "id": "O691YGuFAu3V",
        "outputId": "0350369a-100c-45aa-81f6-aa3f493dc267"
      },
      "outputs": [
        {
          "data": {
            "text/plain": [
              "567"
            ]
          },
          "execution_count": 28,
          "metadata": {},
          "output_type": "execute_result"
        }
      ],
      "source": [
        "size"
      ]
    },
    {
      "cell_type": "code",
      "execution_count": null,
      "metadata": {
        "id": "5t9nxwMfA0KQ"
      },
      "outputs": [],
      "source": [
        "train_ds = dataset.take(size)\n",
        "test_ds = dataset.skip(size)"
      ]
    },
    {
      "cell_type": "code",
      "execution_count": null,
      "metadata": {
        "colab": {
          "base_uri": "https://localhost:8080/"
        },
        "id": "ePuK9YmgCLLp",
        "outputId": "02eca2ce-30d1-45e1-d247-5f5257e54611"
      },
      "outputs": [
        {
          "data": {
            "text/plain": [
              "<_TakeDataset element_spec=({'input_ids': TensorSpec(shape=(12, 8192), dtype=tf.float64, name=None), 'attention_mask': TensorSpec(shape=(12, 8192), dtype=tf.float64, name=None)}, TensorSpec(shape=(12, 3), dtype=tf.float64, name=None))>"
            ]
          },
          "execution_count": 30,
          "metadata": {},
          "output_type": "execute_result"
        }
      ],
      "source": [
        "train_ds"
      ]
    },
    {
      "cell_type": "code",
      "execution_count": null,
      "metadata": {
        "id": "bqCxUw7rD5IW"
      },
      "outputs": [],
      "source": [
        "from transformers import TFAutoModel"
      ]
    },
    {
      "cell_type": "code",
      "execution_count": null,
      "metadata": {
        "colab": {
          "base_uri": "https://localhost:8080/"
        },
        "id": "1PSzScTMEHIR",
        "outputId": "4827a171-fbb0-44ce-bf1a-5b01879f2aba"
      },
      "outputs": [
        {
          "name": "stderr",
          "output_type": "stream",
          "text": [
            "Some layers from the model checkpoint at bert-base-uncased were not used when initializing TFBertModel: ['mlm___cls', 'nsp___cls']\n",
            "- This IS expected if you are initializing TFBertModel from the checkpoint of a model trained on another task or with another architecture (e.g. initializing a BertForSequenceClassification model from a BertForPreTraining model).\n",
            "- This IS NOT expected if you are initializing TFBertModel from the checkpoint of a model that you expect to be exactly identical (initializing a BertForSequenceClassification model from a BertForSequenceClassification model).\n",
            "All the layers of TFBertModel were initialized from the model checkpoint at bert-base-uncased.\n",
            "If your task is similar to the task the model of the checkpoint was trained on, you can already use TFBertModel for predictions without further training.\n"
          ]
        },
        {
          "data": {
            "text/plain": [
              "<bound method Model.summary of <transformers.models.bert.modeling_tf_bert.TFBertModel object at 0x7f6ea08827a0>>"
            ]
          },
          "execution_count": 32,
          "metadata": {},
          "output_type": "execute_result"
        }
      ],
      "source": [
        "\n",
        "bert = TFAutoModel.from_pretrained('bert-base-uncased')\n",
        "bert.summary"
      ]
    },
    {
      "cell_type": "code",
      "execution_count": null,
      "metadata": {
        "colab": {
          "base_uri": "https://localhost:8080/"
        },
        "id": "RhH9-ZD6Eiqp",
        "outputId": "84f27542-ce85-43d4-ae55-b624e90b93d1"
      },
      "outputs": [
        {
          "name": "stdout",
          "output_type": "stream",
          "text": [
            "Model: \"tf_bert_model\"\n",
            "_________________________________________________________________\n",
            " Layer (type)                Output Shape              Param #   \n",
            "=================================================================\n",
            " bert (TFBertMainLayer)      multiple                  109482240 \n",
            "                                                                 \n",
            "=================================================================\n",
            "Total params: 109,482,240\n",
            "Trainable params: 109,482,240\n",
            "Non-trainable params: 0\n",
            "_________________________________________________________________\n"
          ]
        }
      ],
      "source": [
        "\n",
        "bert.summary()"
      ]
    },
    {
      "cell_type": "code",
      "execution_count": null,
      "metadata": {
        "colab": {
          "base_uri": "https://localhost:8080/"
        },
        "id": "ys1ECRG9FA1i",
        "outputId": "07b1206b-6ba9-460c-d644-7d3c72616142"
      },
      "outputs": [
        {
          "data": {
            "text/plain": [
              "8192"
            ]
          },
          "execution_count": 34,
          "metadata": {},
          "output_type": "execute_result"
        }
      ],
      "source": [
        "seq_len"
      ]
    },
    {
      "cell_type": "code",
      "execution_count": null,
      "metadata": {
        "id": "WHWJSOgUEwjb"
      },
      "outputs": [],
      "source": [
        "input_ids = tf.keras.layers.Input(shape=(seq_len,),name = 'input_ids',dtype = 'int32')\n",
        "mask = tf.keras.layers.Input(shape=(seq_len,),name = 'attention_mask',dtype = 'int32')\n",
        "embeddings = bert.bert(input_ids,attention_mask = mask)[1]\n",
        "x = tf.keras.layers.Dense(1024,activation = 'relu')(embeddings)\n",
        "y = tf.keras.layers.Dense(arr.max()+1,activation = 'softmax',name = 'outputs')(x)\n"
      ]
    },
    {
      "cell_type": "code",
      "execution_count": null,
      "metadata": {
        "colab": {
          "base_uri": "https://localhost:8080/"
        },
        "id": "vD67w5hmHFLA",
        "outputId": "fe46c866-bead-49eb-88ac-e58ca008f209"
      },
      "outputs": [
        {
          "name": "stdout",
          "output_type": "stream",
          "text": [
            "Model: \"model\"\n",
            "__________________________________________________________________________________________________\n",
            " Layer (type)                   Output Shape         Param #     Connected to                     \n",
            "==================================================================================================\n",
            " input_ids (InputLayer)         [(None, 8192)]       0           []                               \n",
            "                                                                                                  \n",
            " attention_mask (InputLayer)    [(None, 8192)]       0           []                               \n",
            "                                                                                                  \n",
            " bert (TFBertMainLayer)         TFBaseModelOutputWi  109482240   ['input_ids[0][0]',              \n",
            "                                thPoolingAndCrossAt               'attention_mask[0][0]']         \n",
            "                                tentions(last_hidde                                               \n",
            "                                n_state=(None, 8192                                               \n",
            "                                , 768),                                                           \n",
            "                                 pooler_output=(Non                                               \n",
            "                                e, 768),                                                          \n",
            "                                 past_key_values=No                                               \n",
            "                                ne, hidden_states=N                                               \n",
            "                                one, attentions=Non                                               \n",
            "                                e, cross_attentions                                               \n",
            "                                =None)                                                            \n",
            "                                                                                                  \n",
            " dense (Dense)                  (None, 1024)         787456      ['bert[0][1]']                   \n",
            "                                                                                                  \n",
            " outputs (Dense)                (None, 3)            3075        ['dense[0][0]']                  \n",
            "                                                                                                  \n",
            "==================================================================================================\n",
            "Total params: 110,272,771\n",
            "Trainable params: 110,272,771\n",
            "Non-trainable params: 0\n",
            "__________________________________________________________________________________________________\n"
          ]
        }
      ],
      "source": [
        "model = tf.keras.Model(inputs=[input_ids,mask],outputs = y)\n",
        "model.summary()"
      ]
    },
    {
      "cell_type": "code",
      "execution_count": null,
      "metadata": {
        "colab": {
          "base_uri": "https://localhost:8080/"
        },
        "id": "8vaFuzp3H5ky",
        "outputId": "0ee8e322-5183-497c-d8eb-1b4c84864875"
      },
      "outputs": [
        {
          "name": "stderr",
          "output_type": "stream",
          "text": [
            "/usr/local/lib/python3.10/dist-packages/keras/optimizers/legacy/adam.py:117: UserWarning: The `lr` argument is deprecated, use `learning_rate` instead.\n",
            "  super().__init__(name, **kwargs)\n"
          ]
        }
      ],
      "source": [
        "optimizer = tf.keras.optimizers.legacy.Adam(lr=1e-5,decay=1e-6)\n",
        "loss = tf.keras.losses.CategoricalCrossentropy()\n",
        "acc = tf.keras.metrics.CategoricalAccuracy('accuracy')"
      ]
    },
    {
      "cell_type": "code",
      "execution_count": null,
      "metadata": {
        "id": "f_PHmObVI4Fk"
      },
      "outputs": [],
      "source": [
        "model.compile(optimizer=optimizer,loss=loss,metrics=[acc])"
      ]
    },
    {
      "cell_type": "code",
      "execution_count": null,
      "metadata": {
        "colab": {
          "base_uri": "https://localhost:8080/"
        },
        "id": "eOyeDFtxJeMl",
        "outputId": "6e7c3c4a-a7d1-4f07-9612-29c2dd57e05b"
      },
      "outputs": [
        {
          "name": "stdout",
          "output_type": "stream",
          "text": [
            "Epoch 1/3\n"
          ]
        }
      ],
      "source": [
        "history = model.fit(train_ds,validation_data=test_ds,epochs=3, batch_size=2)"
      ]
    },
    {
      "cell_type": "code",
      "execution_count": null,
      "metadata": {
        "id": "-U1mPPL_Jnlx"
      },
      "outputs": [],
      "source": []
    }
  ],
  "metadata": {
    "colab": {
      "provenance": [],
      "include_colab_link": true
    },
    "gpuClass": "standard",
    "kernelspec": {
      "display_name": "Python 3",
      "name": "python3"
    },
    "language_info": {
      "name": "python"
    }
  },
  "nbformat": 4,
  "nbformat_minor": 0
}